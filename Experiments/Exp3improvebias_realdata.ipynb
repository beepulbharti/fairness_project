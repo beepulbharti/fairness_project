{
 "cells": [
  {
   "cell_type": "code",
   "execution_count": 21,
   "metadata": {},
   "outputs": [],
   "source": [
    "# Import necessary packages\n",
    "import numpy as np\n",
    "import pandas as pd\n",
    "import matplotlib.pyplot as plt\n",
    "from tqdm import tqdm\n",
    "import seaborn as sns\n",
    "sns.set_theme()\n",
    "import os\n",
    "\n",
    "# sklearn\n",
    "from sklearn.ensemble import RandomForestClassifier \n",
    "from sklearn import metrics\n",
    "from sklearn.model_selection import train_test_split\n",
    "from sklearn.metrics import confusion_matrix\n",
    "\n",
    "# pytorch\n",
    "import torch\n",
    "from torch.optim import Adam\n",
    "from torch import nn\n",
    "\n",
    "# BERT from Huggingface\n",
    "from transformers import BertTokenizer\n",
    "from transformers import BertModel\n",
    "\n",
    "# Extra additional packages/functions\n",
    "from balancers import BinaryBalancer\n",
    "from utils import calculate_bias_metrics, eo_postprocess, calc_gen_bounds, BertClassifier, train, Dataset"
   ]
  },
  {
   "cell_type": "code",
   "execution_count": 22,
   "metadata": {},
   "outputs": [],
   "source": [
    "# Import fifa 20 dataset\n",
    "all_data = pd.read_csv('players_20.csv')\n",
    "# all_data.head()"
   ]
  },
  {
   "cell_type": "code",
   "execution_count": 23,
   "metadata": {},
   "outputs": [
    {
     "name": "stdout",
     "output_type": "stream",
     "text": [
      "Number of players: 2883\n"
     ]
    }
   ],
   "source": [
    "# Set the nationalities you want to use\n",
    "nationalities = ['England','Germany']\n",
    "\n",
    "# Keep relevant columns\n",
    "o_data = all_data[['long_name','age','nationality','overall','wage_eur']].copy(deep = True)\n",
    "\n",
    "# Change column names of nationality and wage_eur to a and y \n",
    "o_data.rename(columns = {'nationality':'a', 'wage_eur':'y'}, inplace = True)\n",
    "\n",
    "# Restrict to specified nationalities\n",
    "o_data = o_data.loc[(o_data['a'].isin([nationalities[0], nationalities[1]]))]\n",
    "print('Number of players:', o_data.shape[0])\n",
    "\n",
    "# Only keep relevant feagires and outcomes\n",
    "data = o_data[['long_name','age','a','overall','y']].copy(deep = True)\n",
    "\n",
    "# Binarize nationality\n",
    "data = data.replace(nationalities[0],0)\n",
    "data = data.replace(nationalities[1],1)\n",
    "\n",
    "# Reset the index\n",
    "data = data.reset_index(drop=True)\n",
    "\n",
    "# Binarize outcome using median outcome\n",
    "data.loc[data['y'] < np.median(data['y']), 'y'] = 0\n",
    "data.loc[data['y'] >= np.median(data['y']), 'y'] = 1\n",
    "# data.head()"
   ]
  },
  {
   "cell_type": "code",
   "execution_count": 24,
   "metadata": {},
   "outputs": [
    {
     "name": "stdout",
     "output_type": "stream",
     "text": [
      "min rate =  0.19944502254595908\n"
     ]
    }
   ],
   "source": [
    "# Create new column to stratify data and calculate base rates\n",
    "group = []\n",
    "for i in range(data.shape[0]):\n",
    "    # w\n",
    "    if np.sum(data[['a','y']].iloc[i] == [0,0]) == 2:\n",
    "        group.append(1)\n",
    "    # v\n",
    "    if np.sum(data[['a','y']].iloc[i] == [1,0]) == 2:\n",
    "        group.append(2)\n",
    "    # s\n",
    "    if np.sum(data[['a','y']].iloc[i] == [0,1]) == 2:\n",
    "        group.append(3)\n",
    "    # r\n",
    "    if np.sum(data[['a','y']].iloc[i] == [1,1]) == 2:\n",
    "        group.append(4)\n",
    "\n",
    "# Add column to the data\n",
    "data['group'] = group\n",
    "\n",
    "# Calculate base rates\n",
    "total = data.shape[0]\n",
    "r = np.sum(data['group'] == 4)/total\n",
    "s = np.sum(data['group'] == 3)/total\n",
    "v = np.sum(data['group'] == 2)/total\n",
    "w= np.sum(data['group'] == 1)/total\n",
    "print('min rate = ', min(r,s,w,v))"
   ]
  },
  {
   "cell_type": "code",
   "execution_count": 25,
   "metadata": {},
   "outputs": [
    {
     "name": "stderr",
     "output_type": "stream",
     "text": [
      "Some weights of the model checkpoint at bert-base-cased were not used when initializing BertModel: ['cls.predictions.transform.dense.weight', 'cls.predictions.bias', 'cls.predictions.transform.LayerNorm.weight', 'cls.predictions.decoder.weight', 'cls.predictions.transform.LayerNorm.bias', 'cls.seq_relationship.bias', 'cls.predictions.transform.dense.bias', 'cls.seq_relationship.weight']\n",
      "- This IS expected if you are initializing BertModel from the checkpoint of a model trained on another task or with another architecture (e.g. initializing a BertForSequenceClassification model from a BertForPreTraining model).\n",
      "- This IS NOT expected if you are initializing BertModel from the checkpoint of a model that you expect to be exactly identical (initializing a BertForSequenceClassification model from a BertForSequenceClassification model).\n"
     ]
    }
   ],
   "source": [
    "# Experiment Parameters\n",
    "EPOCHS = 10\n",
    "model = BertClassifier()\n",
    "LR = 1e-6 "
   ]
  },
  {
   "cell_type": "code",
   "execution_count": 26,
   "metadata": {},
   "outputs": [],
   "source": [
    "# Splitting data into necessary datasets\n",
    "d_xa, d_remain = train_test_split(data, train_size = 0.7, stratify=data['group'],random_state=10)"
   ]
  },
  {
   "cell_type": "code",
   "execution_count": 27,
   "metadata": {},
   "outputs": [
    {
     "name": "stderr",
     "output_type": "stream",
     "text": [
      "100%|██████████| 757/757 [00:37<00:00, 20.02it/s]\n"
     ]
    },
    {
     "name": "stdout",
     "output_type": "stream",
     "text": [
      "Epochs: 1 | Train Loss:  0.657             | Train Accuracy:  0.612             | Val Loss:  0.507             | Val Accuracy:  0.873\n"
     ]
    },
    {
     "name": "stderr",
     "output_type": "stream",
     "text": [
      "100%|██████████| 757/757 [00:38<00:00, 19.62it/s]\n"
     ]
    },
    {
     "name": "stdout",
     "output_type": "stream",
     "text": [
      "Epochs: 2 | Train Loss:  0.446             | Train Accuracy:  0.858             | Val Loss:  0.359             | Val Accuracy:  0.873\n"
     ]
    },
    {
     "name": "stderr",
     "output_type": "stream",
     "text": [
      "100%|██████████| 757/757 [00:38<00:00, 19.87it/s]\n"
     ]
    },
    {
     "name": "stdout",
     "output_type": "stream",
     "text": [
      "Epochs: 3 | Train Loss:  0.338             | Train Accuracy:  0.892             | Val Loss:  0.294             | Val Accuracy:  0.887\n"
     ]
    },
    {
     "name": "stderr",
     "output_type": "stream",
     "text": [
      "100%|██████████| 757/757 [00:33<00:00, 22.37it/s]\n"
     ]
    },
    {
     "name": "stdout",
     "output_type": "stream",
     "text": [
      "Epochs: 4 | Train Loss:  0.261             | Train Accuracy:  0.919             | Val Loss:  0.284             | Val Accuracy:  0.881\n"
     ]
    },
    {
     "name": "stderr",
     "output_type": "stream",
     "text": [
      "100%|██████████| 757/757 [00:36<00:00, 20.67it/s]\n"
     ]
    },
    {
     "name": "stdout",
     "output_type": "stream",
     "text": [
      "Epochs: 5 | Train Loss:  0.200             | Train Accuracy:  0.939             | Val Loss:  0.268             | Val Accuracy:  0.891\n"
     ]
    },
    {
     "name": "stderr",
     "output_type": "stream",
     "text": [
      "100%|██████████| 757/757 [00:38<00:00, 19.89it/s]\n"
     ]
    },
    {
     "name": "stdout",
     "output_type": "stream",
     "text": [
      "Epochs: 6 | Train Loss:  0.155             | Train Accuracy:  0.955             | Val Loss:  0.273             | Val Accuracy:  0.897\n"
     ]
    },
    {
     "name": "stderr",
     "output_type": "stream",
     "text": [
      "100%|██████████| 757/757 [00:37<00:00, 20.14it/s]\n"
     ]
    },
    {
     "name": "stdout",
     "output_type": "stream",
     "text": [
      "Epochs: 7 | Train Loss:  0.136             | Train Accuracy:  0.963             | Val Loss:  0.267             | Val Accuracy:  0.901\n"
     ]
    },
    {
     "name": "stderr",
     "output_type": "stream",
     "text": [
      "100%|██████████| 757/757 [00:37<00:00, 20.10it/s]\n"
     ]
    },
    {
     "name": "stdout",
     "output_type": "stream",
     "text": [
      "Epochs: 8 | Train Loss:  0.110             | Train Accuracy:  0.971             | Val Loss:  0.287             | Val Accuracy:  0.903\n"
     ]
    },
    {
     "name": "stderr",
     "output_type": "stream",
     "text": [
      "100%|██████████| 757/757 [00:38<00:00, 19.63it/s]\n"
     ]
    },
    {
     "name": "stdout",
     "output_type": "stream",
     "text": [
      "Epochs: 9 | Train Loss:  0.091             | Train Accuracy:  0.972             | Val Loss:  0.305             | Val Accuracy:  0.901\n"
     ]
    },
    {
     "name": "stderr",
     "output_type": "stream",
     "text": [
      "100%|██████████| 757/757 [00:38<00:00, 19.91it/s]\n"
     ]
    },
    {
     "name": "stdout",
     "output_type": "stream",
     "text": [
      "Epochs: 10 | Train Loss:  0.079             | Train Accuracy:  0.980             | Val Loss:  0.316             | Val Accuracy:  0.899\n"
     ]
    }
   ],
   "source": [
    "# Split d_xa into d_xa_train and d_xa_val\n",
    "d_xa_train, d_xa_val = train_test_split(d_xa, train_size = 0.75, stratify=d_xa['group'],random_state=10)\n",
    "\n",
    "# Train model\n",
    "train(model, d_xa_train, d_xa_val, LR, EPOCHS)"
   ]
  },
  {
   "cell_type": "code",
   "execution_count": 31,
   "metadata": {},
   "outputs": [],
   "source": [
    "# Check cuda\n",
    "os.environ['CUDE_VISIBLE_DEVICES'] = '0'\n",
    "device = torch.device(\"cuda:0\" if torch.cuda.is_available() else \"mps\")"
   ]
  },
  {
   "cell_type": "code",
   "execution_count": 32,
   "metadata": {},
   "outputs": [],
   "source": [
    "# Calculating final validation accuracy and ROC curve\n",
    "val = Dataset(d_xa_val)\n",
    "val_dataloader = torch.utils.data.DataLoader(val, batch_size=len(d_xa_val))\n",
    "model.to(device)\n",
    "model = model.eval()\n",
    "with torch.no_grad():\n",
    "    for val_input, val_label, val_remain in val_dataloader:\n",
    "        val_label = val_label.to(device).float()\n",
    "        mask = val_input['attention_mask'].to(device)\n",
    "        input_id = val_input['input_ids'].squeeze(1).to(device)\n",
    "        output = model(input_id, mask).reshape(1,-1)[0]"
   ]
  },
  {
   "cell_type": "code",
   "execution_count": 35,
   "metadata": {},
   "outputs": [
    {
     "name": "stdout",
     "output_type": "stream",
     "text": [
      "Optimal threshold =  0.03406813627254509\n",
      "Lowest error =  0.0891089108910891\n"
     ]
    }
   ],
   "source": [
    "# Optimal Threshold for accuracy of a_hat\n",
    "total_error = []\n",
    "thresholds = np.linspace(0,1,500)\n",
    "for t in thresholds:\n",
    "    a_hat = (output.cpu() >= t)\n",
    "    a_hat = a_hat.numpy().astype('int')\n",
    "\n",
    "    # Error of h(x) on this data\n",
    "    incorrect = np.sum((d_xa_val['a'] != a_hat))\n",
    "    error = (incorrect)/(d_xa_val.shape[0])\n",
    "    total_error.append(error)\n",
    "\n",
    "total_error = np.array(total_error)\n",
    "opt_t = thresholds[np.argmin(total_error)]\n",
    "print('Optimal threshold = ', opt_t)\n",
    "# plt.plot(thresholds,total_error)\n",
    "# plt.xlabel('Thresholds')\n",
    "# plt.ylabel('Error')\n",
    "# plt.plot(thresholds,total_error)\n",
    "print('Lowest error = ', np.min(total_error))"
   ]
  },
  {
   "cell_type": "code",
   "execution_count": 39,
   "metadata": {},
   "outputs": [],
   "source": [
    "# Necessary function\n",
    "def generate_estimates(t,output,d_xy_test):\n",
    "    # Add a_hat column to data using opt_t\n",
    "    a_hat = (output.cpu()) >= t\n",
    "    d_xy_test['a_hat'] = a_hat.numpy().astype('int')\n",
    "\n",
    "    # Error of h(x) on this data\n",
    "    incorrect = np.sum((d_xy_test['a'] != d_xy_test['a_hat']))\n",
    "    error = (incorrect)/(d_xy_test.shape[0])\n",
    "    #print('a_error = ', error)\n",
    "\n",
    "    y1 = d_xy_test[d_xy_test['y'] == 1]\n",
    "    incorrect = np.sum(y1['a_hat'] != y1['a'])/y1.shape[0]\n",
    "    U1 = incorrect*(y1.shape[0]/d_xy_test.shape[0])\n",
    "    y0 = d_xy_test[d_xy_test['y'] == 0]\n",
    "    incorrect = np.sum(y0['a_hat'] != y0['a'])/y0.shape[0]\n",
    "    U2 = incorrect*(y0.shape[0]/d_xy_test.shape[0])\n",
    "\n",
    "    # Evaluate the equal oppurtunity violation using a_hat using threshold of 0.5 for f\n",
    "    a1_y1 = d_xy_test[(d_xy_test['a_hat'] == 1) & (d_xy_test['y'] == 1)]\n",
    "    a0_y1 = d_xy_test[(d_xy_test['a_hat'] == 0) & (d_xy_test['y'] == 1)]\n",
    "    a1_y0 = d_xy_test[(d_xy_test['a_hat'] == 1) & (d_xy_test['y'] == 0)]\n",
    "    a0_y0 = d_xy_test[(d_xy_test['a_hat'] == 0) & (d_xy_test['y'] == 0)]\n",
    "    alpha_hat = np.sum((a1_y1['y_prob'] >= 0.5) == 1)/a1_y1.shape[0]\n",
    "    beta_hat = np.sum((a0_y1['y_prob'] >= 0.5) == 1)/a0_y1.shape[0]\n",
    "    tau_hat = np.sum((a1_y0['y_prob'] >= 0.5) == 1)/a1_y0.shape[0]\n",
    "    phi_hat = np.sum((a0_y0['y_prob'] >= 0.5) == 1)/a0_y0.shape[0]\n",
    "    bias_tpr_hat = np.abs(alpha_hat - beta_hat)\n",
    "    bias_fpr_hat = np.abs(tau_hat - phi_hat)\n",
    "    # k1 = 1 + (error/(2*s**2*r**2))*((2*r**4*s + 2*s**4*r - error*r**4 - error*s**4 + error*r**2*s**2)/(2*r*s - error*s - error*r))\n",
    "    # print('Lower bound =', bias_tpr_hat)\n",
    "    # print('Upper bound = ', bias_tpr_hat*k1)\n",
    "    # print('bias_tpr_hat =', bias_tpr_hat)\n",
    "\n",
    "    return bias_tpr_hat, bias_fpr_hat, error, U1, U2"
   ]
  },
  {
   "cell_type": "code",
   "execution_count": 41,
   "metadata": {},
   "outputs": [
    {
     "name": "stderr",
     "output_type": "stream",
     "text": [
      "/tmp/ipykernel_82994/2146228505.py:137: RuntimeWarning: invalid value encountered in true_divide\n",
      "  gamma_1 = np.abs(1-g1-g2)/(((s/r)*(1-g1)+g2)*((r/s)*(1-g2)+g1))\n",
      "/tmp/ipykernel_82994/2146228505.py:140: RuntimeWarning: invalid value encountered in true_divide\n",
      "  gamma_2 = np.abs(1-d1-d2)/(((v/w)*(1-d1)+d2)*((w/v)*(1-d2)+d1))\n",
      "/tmp/ipykernel_82994/2146228505.py:137: RuntimeWarning: invalid value encountered in true_divide\n",
      "  gamma_1 = np.abs(1-g1-g2)/(((s/r)*(1-g1)+g2)*((r/s)*(1-g2)+g1))\n"
     ]
    }
   ],
   "source": [
    "# Will repeatedly split data into\n",
    "# d_xy_train\n",
    "# d_xy_test\n",
    "# d_xy_tune\n",
    "# Split data \n",
    "true_bias_tpr = []\n",
    "true_bias_fpr = []\n",
    "old_bias_tpr = []\n",
    "old_bias_fpr = []\n",
    "new_bias_tpr = []\n",
    "new_bias_fpr = []\n",
    "old_error = []\n",
    "U1_old = []\n",
    "U2_old = []\n",
    "new_error_tpr = []\n",
    "new_error_fpr = []\n",
    "new_bias_tpr = []\n",
    "new_bias_fpr = []\n",
    "U1_new_tpr = []\n",
    "U2_new_tpr = []\n",
    "U1_new_fpr = []\n",
    "U2_new_fpr = []\n",
    "thresholds = np.linspace(0,1,101)\n",
    "\n",
    "for i in range(50):\n",
    "    d_xy_train, d_xy_remain = train_test_split(d_remain, train_size = 0.8, stratify=d_remain['group'])\n",
    "    d_xy_test, d_xay = train_test_split(d_xy_remain, train_size = 0.5, stratify=d_xy_remain['group'])\n",
    "\n",
    "    # Create Classifier\n",
    "    clf = RandomForestClassifier(n_estimators=50)\n",
    "\n",
    "    # Split data into features and labels\n",
    "    x_train = d_xy_train[['age','overall']]\n",
    "    y_train = d_xy_train['y']\n",
    "    x_test = d_xy_test[['age','overall']]\n",
    "    y_test = d_xy_test['y']\n",
    "\n",
    "    # Fit classifier\n",
    "    clf.fit(x_train.to_numpy(),y_train)\n",
    "\n",
    "    # Model Accuracy:\n",
    "    # print(\"Accuracy:\",metrics.accuracy_score(y_test, clf.predict(x_test.to_numpy())))\n",
    "\n",
    "    # Evaluate probabilities on test set\n",
    "    y_prob = clf.predict_proba(x_test.to_numpy())\n",
    "    \n",
    "    # Add y_prob to data\n",
    "    d_xy_test['y_prob'] = y_prob[:,1]\n",
    "\n",
    "    # Calculating hat_a\n",
    "    xy_test = Dataset(d_xy_test)\n",
    "    xy_test_dataloader = torch.utils.data.DataLoader(xy_test, batch_size=len(xy_test))\n",
    "    model = model.eval()\n",
    "    with torch.no_grad():\n",
    "        for xy_test_input, xy_test_label, xy_test_remain in xy_test_dataloader:\n",
    "            xy_test_label = xy_test_label.to(device).float()\n",
    "            mask = xy_test_input['attention_mask'].to(device)\n",
    "            input_id = xy_test_input['input_ids'].squeeze(1).to(device)\n",
    "            output = model(input_id, mask).reshape(1,-1)[0]\n",
    "    \n",
    "    # Evaluate true bias\n",
    "    a1_y1 = d_xy_test[(d_xy_test['a'] == 1) & (d_xy_test['y'] == 1)]\n",
    "    a0_y1 = d_xy_test[(d_xy_test['a'] == 0) & (d_xy_test['y'] == 1)]\n",
    "    a1_y0 = d_xy_test[(d_xy_test['a'] == 1) & (d_xy_test['y'] == 0)]\n",
    "    a0_y0 = d_xy_test[(d_xy_test['a'] == 0) & (d_xy_test['y'] == 0)]\n",
    "    alpha = np.sum((a1_y1['y_prob'] >= 0.5) == 1)/a1_y1.shape[0]\n",
    "    beta = np.sum((a0_y1['y_prob'] >= 0.5) == 1)/a0_y1.shape[0]\n",
    "    tau = np.sum((a1_y0['y_prob'] >= 0.5) == 1)/a1_y0.shape[0]\n",
    "    phi = np.sum((a0_y0['y_prob'] >= 0.5) == 1)/a0_y0.shape[0]\n",
    "    true_bias_tpr.append(np.abs(alpha - beta))\n",
    "    true_bias_fpr.append(np.abs(tau - phi))\n",
    "    # print('bias_tpr =', bias_tpr)\n",
    "\n",
    "    # Use generate estimates function\n",
    "    bias_tpr_hat_o, bias_fpr_hat_o, a_error, error_1, error_2 = generate_estimates(opt_t,output,d_xy_test)\n",
    "    old_bias_tpr.append(bias_tpr_hat_o)\n",
    "    old_bias_fpr.append(bias_fpr_hat_o)\n",
    "    old_error.append(a_error)\n",
    "    U1_old.append(error_1)\n",
    "    U2_old.append(error_2)\n",
    "\n",
    "    #### Tuning\n",
    "    # Tune h(x) on common data \n",
    "    d_tune = Dataset(d_xay)\n",
    "    d_tune_dataloader = torch.utils.data.DataLoader(d_tune, batch_size=len(d_xay))\n",
    "    model = model.eval()\n",
    "    with torch.no_grad():\n",
    "        for tune_input, tune_label, tune_remain in d_tune_dataloader:\n",
    "            tune_label = tune_label.to(device).float()\n",
    "            mask = tune_input['attention_mask'].to(device)\n",
    "            input_id = tune_input['input_ids'].squeeze(1).to(device)\n",
    "            tune_output = model(input_id, mask).reshape(1,-1)[0]\n",
    "\n",
    "    # Processing data for later calculations\n",
    "    tune_label = np.array(tune_label.cpu())\n",
    "    tune_output = np.array(tune_output.cpu())\n",
    "    tune_remain = np.array(tune_remain.cpu())\n",
    "    tune_Y = []\n",
    "    for i in range(len(tune_remain)):\n",
    "        tune_Y.append(tune_remain[i][2])\n",
    "    tune_Y = np.array(tune_Y)\n",
    "    \n",
    "    # Concatenate y, a_label_test, outcomes_test to understand the error rates as function of threshold \n",
    "    Y_A_Ap = np.hstack((tune_Y.reshape(-1,1),tune_label.reshape(-1,1),tune_output.reshape(-1,1)))\n",
    "    Y_A = Y_A_Ap[:,:2]\n",
    "\n",
    "    # Look at error rates as a function of thresholds\n",
    "    g1 = []\n",
    "    g2 = []\n",
    "    d1 = []\n",
    "    d2 = []\n",
    "    for thresh in thresholds:\n",
    "        A_pred = (Y_A_Ap[:,2] >= thresh)\n",
    "        # g1\n",
    "        indices = np.where(np.sum(Y_A == [1,0],axis = 1) == 2)\n",
    "        A_labels = A_pred[indices]\n",
    "        g1.append(np.sum(Y_A[:,1][indices] != A_labels)/(np.size(indices)))\n",
    "        # g2\n",
    "        indices = np.where(np.sum(Y_A == [1,1],axis = 1) == 2)\n",
    "        A_labels = A_pred[indices]\n",
    "        g2.append(np.sum(Y_A[:,1][indices] != A_labels)/(np.size(indices)))\n",
    "        # h1\n",
    "        indices = np.where(np.sum(Y_A == [0,0],axis = 1) == 2)\n",
    "        A_labels = A_pred[indices]\n",
    "        d1.append(np.sum(Y_A[:,1][indices] != A_labels)/(np.size(indices)))\n",
    "        # h2\n",
    "        indices = np.where(np.sum(Y_A == [0,1],axis = 1) == 2)\n",
    "        A_labels = A_pred[indices]\n",
    "        d2.append(np.sum(Y_A[:,1][indices] != A_labels)/(np.size(indices)))\n",
    "\n",
    "    g1 = np.array(g1)\n",
    "    g2 = np.array(g2)\n",
    "    d1 = np.array(d1)\n",
    "    d2 = np.array(d2)\n",
    "\n",
    "    # Calculating gamma_1 and gamma_2\n",
    "    gamma_1 = np.abs(1-g1-g2)/(((s/r)*(1-g1)+g2)*((r/s)*(1-g2)+g1))\n",
    "\n",
    "    # Calculating gamma_1 and gamma_2\n",
    "    gamma_2 = np.abs(1-d1-d2)/(((v/w)*(1-d1)+d2)*((w/v)*(1-d2)+d1))\n",
    "\n",
    "    # Optimal threshold for gamma_1 maximization or gamma_2 maximization\n",
    "    nan_ind1 = np.where(np.isnan(gamma_1) == True)[0]\n",
    "    nan_ind2 = np.where(np.isnan(gamma_2) == True)[0]\n",
    "    nan_ind = np.concatenate([nan_ind1, nan_ind2[~np.isin(nan_ind2,nan_ind1)]])\n",
    "\n",
    "    # Remove nan\n",
    "    gamma_1 = np.delete(gamma_1, nan_ind)\n",
    "    gamma_2 = np.delete(gamma_2, nan_ind)\n",
    "    g1 = np.delete(g1,nan_ind)\n",
    "    g2 = np.delete(g2,nan_ind)\n",
    "    h1 = np.delete(d1,nan_ind)\n",
    "    h2 = np.delete(d2,nan_ind)\n",
    "    thresholds = np.delete(thresholds,nan_ind)\n",
    "\n",
    "    # Optimal Thresholds for various tasks\n",
    "    opt_t_gamma_1 = thresholds[np.argmax(gamma_1)]\n",
    "    opt_t_gamma_2 = thresholds[np.argmax(gamma_2)]\n",
    "    # print(opt_t_gamma_1)\n",
    "    # print(\"Optimal Threshold for max gamma_1\",opt_t_gamma_1)\n",
    "    # print(\"Optimal Threshold for max gamma_2\",opt_t_gamma_2)\n",
    "\n",
    "    # Add a_hat column to data using opt_t_gamma_1\n",
    "    bias_tpr_hat_n, bias_fpr_hat_n, a_error, error_1, error_2 = generate_estimates(opt_t_gamma_1,output,d_xy_test)\n",
    "    new_bias_tpr.append(bias_tpr_hat_n)\n",
    "    new_error_tpr.append(a_error)\n",
    "    U1_new_tpr.append(error_1)\n",
    "    U2_new_tpr.append(error_2)\n",
    "\n",
    "    # Add a_hat column to data using opt_t_gamma_1\n",
    "    bias_tpr_hat_n, bias_fpr_hat_n, a_error, error_1, error_2 = generate_estimates(opt_t_gamma_2,output,d_xy_test)\n",
    "    new_bias_fpr.append(bias_fpr_hat_n)\n",
    "    new_error_fpr.append(a_error)\n",
    "    U1_new_fpr.append(error_1)\n",
    "    U2_new_fpr.append(error_2)"
   ]
  },
  {
   "cell_type": "code",
   "execution_count": 48,
   "metadata": {},
   "outputs": [],
   "source": [
    "# Calculating differences\n",
    "old_diff_tpr = np.abs(np.array(old_bias_tpr) - np.array(true_bias_tpr)).reshape(-1,1)\n",
    "new_diff_tpr = np.abs(np.array(new_bias_tpr) - np.array(true_bias_tpr)).reshape(-1,1)\n",
    "diffs_tpr = np.concatenate((old_diff_tpr,new_diff_tpr),axis = 1)\n",
    "\n",
    "old_diff_fpr = np.abs(np.array(old_bias_fpr) - np.array(true_bias_fpr)).reshape(-1,1)\n",
    "new_diff_fpr = np.abs(np.array(new_bias_fpr) - np.array(true_bias_fpr)).reshape(-1,1)\n",
    "diffs_fpr = np.concatenate((old_diff_fpr,new_diff_fpr),axis = 1)"
   ]
  },
  {
   "cell_type": "code",
   "execution_count": 49,
   "metadata": {},
   "outputs": [
    {
     "data": {
      "image/png": "[encoded data removed]",
      "text/plain": [
       "<Figure size 432x288 with 1 Axes>"
      ]
     },
     "metadata": {},
     "output_type": "display_data"
    }
   ],
   "source": [
    "# Difference in TPR pre and post tuning gamma\n",
    "plt.boxplot(diffs_tpr,patch_artist=True)\n",
    "plt.xticks([1, 2], [r'$\\Delta_{TPR}$', r'$\\Delta^c_{TPR}$'])\n",
    "plt.xticks(fontsize=15)\n",
    "plt.savefig('Figures/Exp3/better_estimation.png',bbox_inches=\"tight\")"
   ]
  },
  {
   "cell_type": "code",
   "execution_count": 50,
   "metadata": {},
   "outputs": [
    {
     "data": {
      "image/png": "[encoded data removed]",
      "text/plain": [
       "<Figure size 432x288 with 1 Axes>"
      ]
     },
     "metadata": {},
     "output_type": "display_data"
    }
   ],
   "source": [
    "# Difference in U pre and post tuning gamma\n",
    "plt.boxplot(np.abs(np.array(U1_old) - np.array(U1_new_tpr)),patch_artist=True)\n",
    "plt.xticks([1], [r'$\\Delta_{U_1}$'])\n",
    "plt.xticks(fontsize=15)\n",
    "plt.savefig('Figures/Exp3/deltaU.png',bbox_inches=\"tight\")"
   ]
  }
 ],
 "metadata": {
  "kernelspec": {
   "display_name": "Python 3.10.4 ('cuda102')",
   "language": "python",
   "name": "python3"
  },
  "language_info": {
   "codemirror_mode": {
    "name": "ipython",
    "version": 3
   },
   "file_extension": ".py",
   "mimetype": "text/x-python",
   "name": "python",
   "nbconvert_exporter": "python",
   "pygments_lexer": "ipython3",
   "version": "3.10.4"
  },
  "orig_nbformat": 4,
  "vscode": {
   "interpreter": {
    "hash": "3480f17d4fb79fd692b6ed7a9ca0948306936357486d7718056d429d227b38c3"
   }
  }
 },
 "nbformat": 4,
 "nbformat_minor": 2
}
