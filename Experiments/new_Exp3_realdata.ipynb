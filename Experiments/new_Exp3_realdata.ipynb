{
 "cells": [
  {
   "cell_type": "code",
   "execution_count": 5,
   "metadata": {},
   "outputs": [],
   "source": [
    "# Import necessary packages\n",
    "import numpy as np\n",
    "import pandas as pd\n",
    "import matplotlib.pyplot as plt\n",
    "from tqdm import tqdm\n",
    "import seaborn as sns\n",
    "sns.set_theme()\n",
    "import os\n",
    "\n",
    "# sklearn\n",
    "from sklearn.ensemble import RandomForestClassifier \n",
    "from sklearn import metrics\n",
    "from sklearn.model_selection import train_test_split\n",
    "from sklearn.metrics import confusion_matrix\n",
    "\n",
    "# pytorch\n",
    "import torch\n",
    "from torch.optim import Adam\n",
    "from torch import nn\n",
    "\n",
    "# BERT from Huggingface\n",
    "from transformers import BertTokenizer\n",
    "from transformers import BertModel\n",
    "\n",
    "# Extra additional packages/functions\n",
    "from updated_balancers import BinaryBalancer\n",
    "from utils import calculate_bias_metrics, eo_postprocess, calc_gen_bounds, BertClassifier, train, Dataset"
   ]
  },
  {
   "cell_type": "code",
   "execution_count": 6,
   "metadata": {},
   "outputs": [],
   "source": [
    "# Import fifa 20 dataset\n",
    "all_data = pd.read_csv('players_20.csv')\n",
    "# all_data.head()"
   ]
  },
  {
   "cell_type": "code",
   "execution_count": 7,
   "metadata": {},
   "outputs": [
    {
     "name": "stdout",
     "output_type": "stream",
     "text": [
      "Number of players: 2553\n"
     ]
    }
   ],
   "source": [
    "# Set the nationalities you want to use\n",
    "nationalities = ['England','Argentina']\n",
    "\n",
    "# Keep relevant columns\n",
    "o_data = all_data[['long_name','age','nationality','overall','wage_eur']].copy(deep = True)\n",
    "\n",
    "# Change column names of nationality and wage_eur to a and y \n",
    "o_data.rename(columns = {'nationality':'a', 'wage_eur':'y'}, inplace = True)\n",
    "\n",
    "# Restrict to specified nationalities\n",
    "o_data = o_data.loc[(o_data['a'].isin([nationalities[0], nationalities[1]]))]\n",
    "print('Number of players:', o_data.shape[0])\n",
    "\n",
    "# Only keep relevant feagires and outcomes\n",
    "data = o_data[['long_name','age','a','overall','y']].copy(deep = True)\n",
    "\n",
    "# Binarize nationality\n",
    "data = data.replace(nationalities[0],0)\n",
    "data = data.replace(nationalities[1],1)\n",
    "\n",
    "# Reset the index\n",
    "data = data.reset_index(drop=True)\n",
    "\n",
    "# Binarize outcome using median outcome\n",
    "data.loc[data['y'] < np.median(data['y']), 'y'] = 0\n",
    "data.loc[data['y'] >= np.median(data['y']), 'y'] = 1\n",
    "# data.head()"
   ]
  },
  {
   "cell_type": "code",
   "execution_count": 8,
   "metadata": {},
   "outputs": [
    {
     "name": "stdout",
     "output_type": "stream",
     "text": [
      "min rate =  0.11711711711711711\n"
     ]
    }
   ],
   "source": [
    "# Create new column to stratify data and calculate base rates\n",
    "group = []\n",
    "for i in range(data.shape[0]):\n",
    "    # w\n",
    "    if np.sum(data[['a','y']].iloc[i] == [0,0]) == 2:\n",
    "        group.append(1)\n",
    "    # v\n",
    "    if np.sum(data[['a','y']].iloc[i] == [1,0]) == 2:\n",
    "        group.append(2)\n",
    "    # s\n",
    "    if np.sum(data[['a','y']].iloc[i] == [0,1]) == 2:\n",
    "        group.append(3)\n",
    "    # r\n",
    "    if np.sum(data[['a','y']].iloc[i] == [1,1]) == 2:\n",
    "        group.append(4)\n",
    "\n",
    "# Add column to the data\n",
    "data['group'] = group\n",
    "\n",
    "# Calculate base rates\n",
    "total = data.shape[0]\n",
    "r = np.sum(data['group'] == 4)/total\n",
    "s = np.sum(data['group'] == 3)/total\n",
    "v = np.sum(data['group'] == 2)/total\n",
    "w= np.sum(data['group'] == 1)/total\n",
    "print('min rate = ', min(r,s,w,v))"
   ]
  },
  {
   "cell_type": "code",
   "execution_count": 9,
   "metadata": {},
   "outputs": [
    {
     "name": "stderr",
     "output_type": "stream",
     "text": [
      "Some weights of the model checkpoint at bert-base-cased were not used when initializing BertModel: ['cls.predictions.decoder.weight', 'cls.predictions.transform.LayerNorm.bias', 'cls.predictions.transform.dense.weight', 'cls.predictions.transform.LayerNorm.weight', 'cls.predictions.transform.dense.bias', 'cls.predictions.bias', 'cls.seq_relationship.bias', 'cls.seq_relationship.weight']\n",
      "- This IS expected if you are initializing BertModel from the checkpoint of a model trained on another task or with another architecture (e.g. initializing a BertForSequenceClassification model from a BertForPreTraining model).\n",
      "- This IS NOT expected if you are initializing BertModel from the checkpoint of a model that you expect to be exactly identical (initializing a BertForSequenceClassification model from a BertForSequenceClassification model).\n"
     ]
    }
   ],
   "source": [
    "# Experiment Parameters\n",
    "EPOCHS = 5\n",
    "model = BertClassifier()\n",
    "LR = 1e-6 "
   ]
  },
  {
   "cell_type": "code",
   "execution_count": 10,
   "metadata": {},
   "outputs": [],
   "source": [
    "# Splitting data into necessary datasets\n",
    "d_xa, d_remain = train_test_split(data, train_size = 0.7, stratify=data['group'],random_state=10)"
   ]
  },
  {
   "cell_type": "code",
   "execution_count": 11,
   "metadata": {},
   "outputs": [
    {
     "name": "stderr",
     "output_type": "stream",
     "text": [
      "100%|██████████| 670/670 [00:32<00:00, 20.64it/s]\n"
     ]
    },
    {
     "name": "stdout",
     "output_type": "stream",
     "text": [
      "Epochs: 1 | Train Loss:  0.580             | Train Accuracy:  0.698             | Val Loss:  0.378             | Val Accuracy:  0.937\n"
     ]
    },
    {
     "name": "stderr",
     "output_type": "stream",
     "text": [
      "100%|██████████| 670/670 [00:31<00:00, 21.06it/s]\n"
     ]
    },
    {
     "name": "stdout",
     "output_type": "stream",
     "text": [
      "Epochs: 2 | Train Loss:  0.273             | Train Accuracy:  0.946             | Val Loss:  0.213             | Val Accuracy:  0.957\n"
     ]
    },
    {
     "name": "stderr",
     "output_type": "stream",
     "text": [
      "100%|██████████| 670/670 [00:33<00:00, 19.98it/s]\n"
     ]
    },
    {
     "name": "stdout",
     "output_type": "stream",
     "text": [
      "Epochs: 3 | Train Loss:  0.177             | Train Accuracy:  0.963             | Val Loss:  0.168             | Val Accuracy:  0.962\n"
     ]
    },
    {
     "name": "stderr",
     "output_type": "stream",
     "text": [
      "100%|██████████| 670/670 [00:31<00:00, 21.12it/s]\n"
     ]
    },
    {
     "name": "stdout",
     "output_type": "stream",
     "text": [
      "Epochs: 4 | Train Loss:  0.125             | Train Accuracy:  0.972             | Val Loss:  0.158             | Val Accuracy:  0.960\n"
     ]
    },
    {
     "name": "stderr",
     "output_type": "stream",
     "text": [
      "100%|██████████| 670/670 [00:31<00:00, 21.10it/s]\n"
     ]
    },
    {
     "name": "stdout",
     "output_type": "stream",
     "text": [
      "Epochs: 5 | Train Loss:  0.095             | Train Accuracy:  0.981             | Val Loss:  0.144             | Val Accuracy:  0.966\n"
     ]
    }
   ],
   "source": [
    "# Split d_xa into d_xa_train and d_xa_val\n",
    "d_xa_train, d_xa_val = train_test_split(d_xa, train_size = 0.75, stratify=d_xa['group'],random_state=10)\n",
    "\n",
    "# Train model\n",
    "train(model, d_xa_train, d_xa_val, LR, EPOCHS)"
   ]
  },
  {
   "cell_type": "code",
   "execution_count": 12,
   "metadata": {},
   "outputs": [
    {
     "name": "stderr",
     "output_type": "stream",
     "text": [
      "100%|██████████| 885/885 [00:41<00:00, 21.12it/s]\n"
     ]
    },
    {
     "name": "stdout",
     "output_type": "stream",
     "text": [
      "Epochs: 1 | Train Loss:  0.083             | Train Accuracy:  0.984             | Val Loss:  0.140             | Val Accuracy:  0.944\n"
     ]
    },
    {
     "name": "stderr",
     "output_type": "stream",
     "text": [
      "100%|██████████| 885/885 [00:42<00:00, 21.07it/s]\n"
     ]
    },
    {
     "name": "stdout",
     "output_type": "stream",
     "text": [
      "Epochs: 2 | Train Loss:  0.072             | Train Accuracy:  0.983             | Val Loss:  0.073             | Val Accuracy:  0.944\n"
     ]
    },
    {
     "name": "stderr",
     "output_type": "stream",
     "text": [
      "100%|██████████| 885/885 [00:44<00:00, 19.74it/s]\n"
     ]
    },
    {
     "name": "stdout",
     "output_type": "stream",
     "text": [
      "Epochs: 3 | Train Loss:  0.053             | Train Accuracy:  0.989             | Val Loss:  0.208             | Val Accuracy:  0.944\n"
     ]
    },
    {
     "name": "stderr",
     "output_type": "stream",
     "text": [
      "100%|██████████| 885/885 [00:45<00:00, 19.67it/s]\n"
     ]
    },
    {
     "name": "stdout",
     "output_type": "stream",
     "text": [
      "Epochs: 4 | Train Loss:  0.042             | Train Accuracy:  0.989             | Val Loss:  0.090             | Val Accuracy:  0.944\n"
     ]
    },
    {
     "name": "stderr",
     "output_type": "stream",
     "text": [
      "100%|██████████| 885/885 [00:44<00:00, 19.67it/s]\n"
     ]
    },
    {
     "name": "stdout",
     "output_type": "stream",
     "text": [
      "Epochs: 5 | Train Loss:  0.029             | Train Accuracy:  0.995             | Val Loss:  0.107             | Val Accuracy:  0.944\n"
     ]
    }
   ],
   "source": [
    "# Retrain using all data\n",
    "d_xa_train, d_xa_val = train_test_split(d_xa, train_size = 0.99, stratify=d_xa['group'],random_state=10)\n",
    "\n",
    "# Train model\n",
    "train(model, d_xa_train, d_xa_val, LR, EPOCHS)"
   ]
  },
  {
   "cell_type": "code",
   "execution_count": 13,
   "metadata": {},
   "outputs": [
    {
     "name": "stdout",
     "output_type": "stream",
     "text": [
      "U =  0.02608695652173909\n"
     ]
    }
   ],
   "source": [
    "# Controlling fairness\n",
    "# Leave hold out data to evaluate fairness on\n",
    "d_train, d_xy_test = train_test_split(d_remain, train_size = 0.7, stratify=d_remain['group'], random_state=10)\n",
    "\n",
    "# Using BERT on test set to generate a_hat\n",
    "a = d_xy_test['a']\n",
    "xy_test = Dataset(d_xy_test)\n",
    "xy_test_dataloader = torch.utils.data.DataLoader(xy_test, batch_size=len(xy_test))\n",
    "device = torch.device(\"cpu\")\n",
    "model.to(device)\n",
    "model = model.eval()\n",
    "with torch.no_grad():\n",
    "    for xy_test_input, xy_test_label, xy_test_remain in xy_test_dataloader:\n",
    "        xy_test_label = xy_test_label.to(device).float()\n",
    "        mask = xy_test_input['attention_mask'].to(device)\n",
    "        input_id = xy_test_input['input_ids'].squeeze(1).to(device)\n",
    "        output = model(input_id, mask).reshape(1,-1)[0]\n",
    "a_hat = (np.array(output) >= 0.5).astype('float')\n",
    "a_error = 1 - (np.sum(a_hat == a)/len(a))\n",
    "print('U = ', a_error)"
   ]
  },
  {
   "cell_type": "code",
   "execution_count": 14,
   "metadata": {},
   "outputs": [
    {
     "name": "stderr",
     "output_type": "stream",
     "text": [
      "100%|██████████| 500/500 [00:27<00:00, 17.95it/s]\n"
     ]
    }
   ],
   "source": [
    "x_test = d_xy_test[['age','overall']]\n",
    "y_test = d_xy_test['y'].to_numpy()\n",
    "\n",
    "# make empty lists to store results\n",
    "bias_tpr_list_pre = []\n",
    "bias_tpr_list_post = []\n",
    "bias_fpr_list_pre = []\n",
    "bias_fpr_list_post = []\n",
    "u_bound_tpr_pre = []\n",
    "u_bound_tpr_post = []\n",
    "u_bound_fpr_pre = []\n",
    "u_bound_fpr_post = []\n",
    "\n",
    "for i in tqdm(range(500)):\n",
    "    # Sample a subset of the original training set\n",
    "    d_xy_train = d_train.sample(frac=0.8)\n",
    "\n",
    "    # Create Classifier\n",
    "    clf = RandomForestClassifier(n_estimators=50)\n",
    "\n",
    "    # Split data into features and labels\n",
    "    x_train = d_xy_train[['age','overall']]\n",
    "    y_train = d_xy_train['y']\n",
    "\n",
    "    # Fit classifier\n",
    "    clf.fit(x_train.to_numpy(),y_train)\n",
    "\n",
    "    # Evaluate probabilities/y_hat on test set\n",
    "    y_prob = clf.predict_proba(x_test.to_numpy())\n",
    "    \n",
    "    # Calculate y_hat\n",
    "    y_hat = (y_prob[:,1] >= 0.5).astype('float')\n",
    "\n",
    "    # bias using true values of a\n",
    "    balancer = BinaryBalancer(y=y_test, a=a, y_=y_hat)\n",
    "    alpha, beta, tau, phi = calculate_bias_metrics(balancer)\n",
    "    bias_tpr = np.abs(alpha - beta)\n",
    "    bias_tpr_list_pre.append(bias_tpr)\n",
    "    bias_fpr = np.abs(tau-phi)\n",
    "    bias_fpr_list_pre.append(bias_fpr)\n",
    "\n",
    "    # Calculate bias metrics with respect to a_hat\n",
    "    balancer_h = BinaryBalancer(y=y_test, a=a_hat, y_=y_hat)\n",
    "    alpha_h, beta_h, tau_h, phi_h = calculate_bias_metrics(balancer_h)\n",
    "\n",
    "    # Calculating initial bounds\n",
    "    # Computing the upper bounds before \n",
    "    ub1_t, ub2_t = calc_gen_bounds(alpha_h,beta_h,a_error,r,s)\n",
    "    ub1_f, ub2_f = calc_gen_bounds(tau_h,phi_h,a_error,v,w)\n",
    "    u_bound_tpr_pre.append(max(np.abs(ub1_t),np.abs(ub2_t)))\n",
    "    u_bound_fpr_pre.append(max(np.abs(ub1_f),np.abs(ub2_f)))\n",
    "\n",
    "    # Learn fair f\n",
    "    fair_yh, fair_model = eo_postprocess(y_test,y_hat,a_hat)\n",
    "\n",
    "    # Use fair model to predict on \n",
    "    fair_yh = fair_model.predict(y_hat,a_hat)\n",
    "    balancer_fair_h = BinaryBalancer(y=y_test, a=a_hat, y_=fair_yh)\n",
    "    alpha_h, beta_h, tau_h , phi_h = calculate_bias_metrics(balancer_fair_h)\n",
    "\n",
    "    # Calculate fairness wrt to a using fair classifier on a_hat\n",
    "    fair_y = fair_model.predict(y_hat,a)\n",
    "\n",
    "    # Computing post fairness\n",
    "    balancer_fair = BinaryBalancer(y=y_test, a=a, y_=fair_y)\n",
    "    alpha, beta, tau, phi = calculate_bias_metrics(balancer_fair)\n",
    "    bias_tpr = np.abs(alpha - beta)\n",
    "    bias_tpr_list_post.append(bias_tpr)\n",
    "    bias_fpr = np.abs(tau-phi)\n",
    "    bias_fpr_list_post.append(bias_fpr)\n",
    "\n",
    "    # Computing the upper bounds after \n",
    "    ub1_t, ub2_t = calc_gen_bounds(alpha_h,beta_h,a_error,r,s)\n",
    "    ub1_f, ub2_f = calc_gen_bounds(tau_h,phi_h,a_error,v,w)\n",
    "    u_bound_tpr_post.append(max(np.abs(ub1_t),np.abs(ub2_t)))\n",
    "    u_bound_fpr_post.append(max(np.abs(ub1_f),np.abs(ub2_f)))\n",
    "\n",
    "u_bound_tpr_pre = np.array(u_bound_tpr_pre)\n",
    "u_bound_fpr_pre = np.array(u_bound_fpr_pre)\n",
    "u_bound_tpr_post = np.array(u_bound_tpr_post)\n",
    "u_bound_fpr_post = np.array(u_bound_fpr_post)"
   ]
  },
  {
   "cell_type": "code",
   "execution_count": 15,
   "metadata": {},
   "outputs": [
    {
     "data": {
      "image/png": "[encoded data removed]",
      "text/plain": [
       "<Figure size 432x288 with 1 Axes>"
      ]
     },
     "metadata": {
      "needs_background": "light"
     },
     "output_type": "display_data"
    }
   ],
   "source": [
    "# Generate KDE Plots\n",
    "sns.kdeplot(u_bound_tpr_post, shade = True, label = r'$\\tilde{B}_{TPR}$',cut = 0)\n",
    "sns.kdeplot(u_bound_tpr_pre, shade = True, label = r'$B_{TPR}$',cut = 0)\n",
    "plt.legend()\n",
    "plt.xlabel(r'$Upper\\ Bound\\ of\\ bias_{TPR}$', fontsize=10)\n",
    "plt.savefig('Figures/newExp3/real_data_tpr_control_Eng_Arg.pdf',bbox_inches=\"tight\")"
   ]
  },
  {
   "cell_type": "code",
   "execution_count": 16,
   "metadata": {},
   "outputs": [
    {
     "data": {
      "image/png": "[encoded data removed]",
      "text/plain": [
       "<Figure size 432x288 with 1 Axes>"
      ]
     },
     "metadata": {
      "needs_background": "light"
     },
     "output_type": "display_data"
    }
   ],
   "source": [
    "# Generate KDE Plots\n",
    "sns.kdeplot(u_bound_fpr_post, shade = True, label = r'$\\tilde{B}_{FPR}$',cut = 0)\n",
    "sns.kdeplot(u_bound_fpr_pre, shade = True, label = r'$B_{FPR}$',cut = 0)\n",
    "plt.legend()\n",
    "plt.xlabel(r'$Upper\\ Bound\\ of\\ bias_{FPR}$', fontsize=10)\n",
    "plt.savefig('Figures/newExp3/real_data_fpr_control_Eng_Arg.pdf',bbox_inches=\"tight\")"
   ]
  },
  {
   "cell_type": "code",
   "execution_count": 19,
   "metadata": {},
   "outputs": [
    {
     "data": {
      "image/png": "[encoded data removed]",
      "text/plain": [
       "<Figure size 432x288 with 1 Axes>"
      ]
     },
     "metadata": {
      "needs_background": "light"
     },
     "output_type": "display_data"
    }
   ],
   "source": [
    "# Generate KDE Plots\n",
    "sns.kdeplot(np.array(bias_tpr_list_post), shade = True, label = r'$bias_{TPR}(\\tilde{f})$',cut = 0)\n",
    "sns.kdeplot(np.array(bias_tpr_list_pre), shade = True, label = r'$bias_{TPR}(f)$',cut = 0)\n",
    "plt.legend()\n",
    "plt.xlabel(r'$bias_{TPR}$', fontsize=10)\n",
    "plt.savefig('Figures/newExp3/pre_post_bias_tpr_real_data.pdf',bbox_inches=\"tight\")"
   ]
  },
  {
   "cell_type": "code",
   "execution_count": 20,
   "metadata": {},
   "outputs": [
    {
     "data": {
      "image/png": "[encoded data removed]",
      "text/plain": [
       "<Figure size 432x288 with 1 Axes>"
      ]
     },
     "metadata": {
      "needs_background": "light"
     },
     "output_type": "display_data"
    }
   ],
   "source": [
    "# Generate KDE Plots\n",
    "sns.kdeplot(np.array(bias_fpr_list_post), shade = True, label = r'$bias_{FPR}(\\tilde{f})$',cut = 0)\n",
    "sns.kdeplot(np.array(bias_fpr_list_pre), shade = True, label = r'$bias_{FPR}(f)$',cut = 0)\n",
    "plt.legend()\n",
    "plt.xlabel(r'$bias_{FPR}$', fontsize=10)\n",
    "plt.savefig('Figures/newExp3/pre_post_bias_fpr_real_data.pdf',bbox_inches=\"tight\")"
   ]
  }
 ],
 "metadata": {
  "kernelspec": {
   "display_name": "Python 3.10.5 ('cuda102')",
   "language": "python",
   "name": "python3"
  },
  "language_info": {
   "codemirror_mode": {
    "name": "ipython",
    "version": 3
   },
   "file_extension": ".py",
   "mimetype": "text/x-python",
   "name": "python",
   "nbconvert_exporter": "python",
   "pygments_lexer": "ipython3",
   "version": "3.10.5"
  },
  "orig_nbformat": 4,
  "vscode": {
   "interpreter": {
    "hash": "3480f17d4fb79fd692b6ed7a9ca0948306936357486d7718056d429d227b38c3"
   }
  }
 },
 "nbformat": 4,
 "nbformat_minor": 2
}
