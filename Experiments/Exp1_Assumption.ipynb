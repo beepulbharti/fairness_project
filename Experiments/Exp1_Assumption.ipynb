{
 "cells": [
  {
   "cell_type": "code",
   "execution_count": 2,
   "metadata": {},
   "outputs": [],
   "source": [
    "# Synthetic Experiment for fairness \n",
    "\n",
    "# Load all necessary packages\n",
    "import numpy as np\n",
    "import pandas as pd\n",
    "import seaborn as sns\n",
    "import matplotlib.pyplot as plt\n",
    "from utils import generate_data, generate_a_hat_indep_p, calc_assump_bounds, calculate_bias_metrics\n",
    "sns.set_theme()"
   ]
  },
  {
   "cell_type": "code",
   "execution_count": 3,
   "metadata": {},
   "outputs": [
    {
     "name": "stdout",
     "output_type": "stream",
     "text": [
      "abs_bias_tpr =  0.06409999999999993\n",
      "abs_bias_fpr =  0.0413\n",
      "min_rate =  0.2352\n"
     ]
    }
   ],
   "source": [
    "# Set the experiment\n",
    "exp = 1\n",
    "\n",
    "# Generate data\n",
    "n = 5000\n",
    "e1 = 1\n",
    "e2 = 1\n",
    "b = 0.05\n",
    "group = 1\n",
    "X, a, y_prob, y_hat, y  = generate_data(n,e1,e2,b,group,exp)\n",
    "x1, x2, x3 = X[:,0], X[:,1], X[:,2]\n",
    "\n",
    "# Organizing data\n",
    "# using y\n",
    "data = np.column_stack((x1,x2,x3,y_prob,y_hat,y,a))\n",
    "\n",
    "# converting to dataframes\n",
    "df = pd.DataFrame(data, columns = ['x1', 'x2', 'x3', 'y_prob', 'y_hat', 'y','a'])\n",
    "\n",
    "# calculating base rates\n",
    "r = df[(df['a'] == 1) & (df['y'] == 1)].shape[0]/df.shape[0]\n",
    "s = df[(df['a'] == 0) & (df['y'] == 1)].shape[0]/df.shape[0]\n",
    "v = df[(df['a'] == 1) & (df['y'] == 0)].shape[0]/df.shape[0]\n",
    "w = df[(df['a'] == 0) & (df['y'] == 0)].shape[0]/df.shape[0]\n",
    "min_rate = np.min([r,s,v,w])\n",
    "\n",
    "# Calculate true bias_tpr and bias_fpr\n",
    "alpha, beta, tau, phi = calculate_bias_metrics(df)\n",
    "bias_tpr = np.abs(alpha - beta)\n",
    "bias_fpr = np.abs(tau - phi)\n",
    "print('abs_bias_tpr = ', bias_tpr)\n",
    "print('abs_bias_fpr = ', bias_fpr)\n",
    "print('min_rate = ', min_rate)"
   ]
  },
  {
   "cell_type": "code",
   "execution_count": 4,
   "metadata": {},
   "outputs": [],
   "source": [
    "# Calculating bounds for different errors of a_hat\n",
    "# Consider a_hats that have errors that are normally distributed\n",
    "k = 1000\n",
    "p_errors = [0.05,0.15]\n",
    "iter = 1000\n",
    "\n",
    "# true bias\n",
    "bias_t = [bias_tpr for i in range(iter)]\n",
    "bias_f = [bias_fpr for i in range(iter)]\n",
    "\n",
    "# List to append array of delta values for each p\n",
    "delta_p_tpr = []\n",
    "delta_p_fpr = []\n",
    "\n",
    "for p_bar in p_errors:\n",
    "\n",
    "    errors = []\n",
    "    u_bound_t = []\n",
    "    u_bound_f = []\n",
    "    l_bound_t = []\n",
    "    l_bound_f = []\n",
    "    i = 0\n",
    "\n",
    "    while i < iter:\n",
    "\n",
    "        # Generate a_hat\n",
    "        p = np.random.normal(p_bar,0.02)\n",
    "        a_hat = generate_a_hat_indep_p(a,p)\n",
    "        a_error = np.sum(a_hat != a)/a_hat.shape[0]\n",
    "        if a_error >= min_rate:\n",
    "            continue\n",
    "        errors.append(a_error)\n",
    "\n",
    "        # Using a_hat instead of a in the data\n",
    "        # Using y\n",
    "        data_ah = np.column_stack((x1,x2,x3,y_prob,y_hat,y,a_hat))\n",
    "\n",
    "        # converting to dataframes (using a_hat)\n",
    "        df_ah = pd.DataFrame(data_ah, columns = ['x1', 'x2', 'x3','y_prob','y_hat', 'y','a'])\n",
    "\n",
    "        # Calculate est bias_tpr and bias_fpr\n",
    "        alpha_hat, beta_hat, tau_hat, phi_hat = calculate_bias_metrics(df_ah)\n",
    "        bias_est_tpr = np.abs(alpha_hat - beta_hat)\n",
    "        bias_est_fpr = np.abs(tau_hat - phi_hat)\n",
    "\n",
    "        # Computing the upper bound and lower bounds under the assumption\n",
    "        k_1 = calc_assump_bounds(r,s,a_error,0.02)\n",
    "        k_2 = calc_assump_bounds(v,w,a_error,0.02)\n",
    "        u_bound_tpr = k_1*bias_est_tpr\n",
    "        u_bound_fpr = k_2*bias_est_fpr\n",
    "        l_bound_t.append(bias_est_tpr)\n",
    "        l_bound_f.append(bias_est_fpr)\n",
    "        u_bound_t.append(u_bound_tpr)\n",
    "        u_bound_f.append(u_bound_fpr)\n",
    "\n",
    "        i = i + 1\n",
    "\n",
    "    # Calculate deltas \n",
    "    u_minus_b_tpr = np.abs(np.array(u_bound_t) - np.array(bias_t))\n",
    "    b_tpr_minus_l = np.abs(np.array(bias_t) - np.array(l_bound_t))\n",
    "    delta_p_tpr.append(np.maximum(u_minus_b_tpr,b_tpr_minus_l))\n",
    "\n",
    "    u_minus_b_fpr = np.abs(np.array(u_bound_f) - np.array(bias_f))\n",
    "    b_fpr_minus_l = np.abs(np.array(bias_f) - np.array(l_bound_f))\n",
    "    delta_p_fpr.append(np.maximum(u_minus_b_fpr,b_fpr_minus_l))"
   ]
  },
  {
   "cell_type": "code",
   "execution_count": 5,
   "metadata": {},
   "outputs": [
    {
     "data": {
      "text/plain": [
       "Text(0.5, 0, '$\\\\Delta_{TPR}$')"
      ]
     },
     "execution_count": 5,
     "metadata": {},
     "output_type": "execute_result"
    },
    {
     "data": {
      "image/png": "[encoded data removed]",
      "text/plain": [
       "<Figure size 432x288 with 1 Axes>"
      ]
     },
     "metadata": {
      "needs_background": "light"
     },
     "output_type": "display_data"
    }
   ],
   "source": [
    "# Generate KDE Plots\n",
    "sns.kdeplot(delta_p_tpr[0], shade = True, label = r'$\\bar{p}$ = 0.05',cut = 0)\n",
    "# sns.kdeplot(delta_p_tpr[1], shade = True, label = 'p = 0.10',cut = 0)\n",
    "# sns.kdeplot(delta_p_tpr[2], shade = True, label = 'p = 0.15',cut = 0)\n",
    "sns.kdeplot(delta_p_tpr[1], shade = True, label = r'$\\bar{p}$ = 0.15',cut = 0)\n",
    "plt.legend()\n",
    "plt.xlabel(r'$\\Delta_{TPR}$', fontsize=15)\n",
    "# plt.savefig('Figures/Exp1/assump_tpr_bound',bbox_inches=\"tight\")"
   ]
  },
  {
   "cell_type": "code",
   "execution_count": 6,
   "metadata": {},
   "outputs": [
    {
     "data": {
      "text/plain": [
       "Text(0.5, 0, '$\\\\Delta_{FPR}$')"
      ]
     },
     "execution_count": 6,
     "metadata": {},
     "output_type": "execute_result"
    },
    {
     "data": {
      "image/png": "[encoded data removed]",
      "text/plain": [
       "<Figure size 432x288 with 1 Axes>"
      ]
     },
     "metadata": {
      "needs_background": "light"
     },
     "output_type": "display_data"
    }
   ],
   "source": [
    "# Generate KDE Plots\n",
    "sns.kdeplot(delta_p_fpr[0], shade = True, label = r'$\\bar{p}$ = 0.05',cut = 0)\n",
    "# sns.kdeplot(delta_p_tpr[1], shade = True, label = 'p = 0.10',cut = 0)\n",
    "# sns.kdeplot(delta_p_tpr[2], shade = True, label = 'p = 0.15',cut = 0)\n",
    "sns.kdeplot(delta_p_fpr[1], shade = True, label = r'$\\bar{p}$ = 0.15',cut = 0)\n",
    "plt.legend()\n",
    "plt.xlabel(r'$\\Delta_{FPR}$', fontsize=15)\n",
    "# plt.savefig('Figures/Exp1/assump_fpr_bound.png',bbox_inches=\"tight\")"
   ]
  }
 ],
 "metadata": {
  "kernelspec": {
   "display_name": "Python 3.10.4 ('cuda102')",
   "language": "python",
   "name": "python3"
  },
  "language_info": {
   "codemirror_mode": {
    "name": "ipython",
    "version": 3
   },
   "file_extension": ".py",
   "mimetype": "text/x-python",
   "name": "python",
   "nbconvert_exporter": "python",
   "pygments_lexer": "ipython3",
   "version": "3.10.4"
  },
  "orig_nbformat": 4,
  "vscode": {
   "interpreter": {
    "hash": "3480f17d4fb79fd692b6ed7a9ca0948306936357486d7718056d429d227b38c3"
   }
  }
 },
 "nbformat": 4,
 "nbformat_minor": 2
}
