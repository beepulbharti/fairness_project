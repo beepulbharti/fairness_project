{
 "cells": [
  {
   "cell_type": "code",
   "execution_count": 13,
   "metadata": {},
   "outputs": [],
   "source": [
    "# Synthetic Experiment for fairness \n",
    "\n",
    "# Load all necessary packages\n",
    "import numpy as np\n",
    "import pandas as pd\n",
    "import seaborn as sns\n",
    "import matplotlib.pyplot as plt\n",
    "from utils import generate_data, generate_a_hat_indep_p, generate_y_hat, calc_assump_bounds, calculate_bias_metrics, calc_base_rates\n",
    "from updated_balancers import BinaryBalancer\n",
    "from tqdm import tqdm\n",
    "sns.set_theme()"
   ]
  },
  {
   "cell_type": "code",
   "execution_count": 14,
   "metadata": {},
   "outputs": [
    {
     "name": "stdout",
     "output_type": "stream",
     "text": [
      "min rate =  0.2369\n"
     ]
    }
   ],
   "source": [
    "# Set the experiment\n",
    "exp = 1\n",
    "\n",
    "# Generate data\n",
    "n = 10000\n",
    "e1 = 1.5\n",
    "e2 = 1.5\n",
    "b = 0.05\n",
    "group = 1\n",
    "X, a, y  = generate_data(n,e1,e2,b,group,exp)\n",
    "\n",
    "# Calculate base rates\n",
    "r,s,v,w = calc_base_rates(y,a)\n",
    "min_rate = min(r,s,v,w)\n",
    "print('min rate = ', min_rate)\n",
    "\n",
    "# Generate y_hat using random coefficients\n",
    "k = 1000\n",
    "mu_c = np.array([1,1,1])\n",
    "var_c = np.array([[0.1,0,0],[0,0.1,0],[0,0,0.1]])"
   ]
  },
  {
   "cell_type": "code",
   "execution_count": 15,
   "metadata": {},
   "outputs": [],
   "source": [
    "# Generate a_hat\n",
    "p_errors = [0.10,0.20]\n",
    "diff_bound_tpr = []\n",
    "diff_bound_fpr = []\n",
    "\n",
    "for p in p_errors:\n",
    "    a_hat = generate_a_hat_indep_p(a,p)\n",
    "    a_error = np.sum(a_hat != a)/a_hat.shape[0]\n",
    "    k1 = calc_assump_bounds(r,s,a_error,0.025)\n",
    "    k2 = calc_assump_bounds(v,w,a_error,0.025)\n",
    "    bias_tpr_list = []\n",
    "    bias_fpr_list = []\n",
    "    u_bound_tpr = []\n",
    "    u_bound_fpr = []\n",
    "    # print('a_hat_error = ', a_error)\n",
    "    i = 0\n",
    "\n",
    "    while i < k:\n",
    "        # Generate y_hat\n",
    "        coeffs = np.random.multivariate_normal(mu_c,var_c,1).T\n",
    "        y_prob, y_hat = generate_y_hat(X,coeffs,exp)\n",
    "\n",
    "        # bias using true values of a\n",
    "        balancer = BinaryBalancer(y=y, a=a, y_=y_hat)\n",
    "        alpha, beta, tau, phi = calculate_bias_metrics(balancer)\n",
    "        bias_tpr = np.abs(alpha - beta)\n",
    "        if bias_tpr < 0.025:\n",
    "            continue\n",
    "        bias_tpr_list.append(bias_tpr)\n",
    "        bias_fpr = np.abs(tau-phi)\n",
    "        if bias_tpr < 0.025:\n",
    "            continue\n",
    "        bias_fpr_list.append(bias_fpr)\n",
    "\n",
    "        # bias estimate using a_hat\n",
    "        balancer_h = BinaryBalancer(y=y, a=a_hat, y_=y_hat)\n",
    "        alpha_h, beta_h, tau_h , phi_h = calculate_bias_metrics(balancer_h)\n",
    "        bias_est_tpr = np.abs(alpha_h - beta_h)\n",
    "        bias_est_fpr = np.abs(tau_h - phi_h)\n",
    "        # if k1*bias_est_tpr - bias_tpr < 0:\n",
    "            # print(k1*bias_est_tpr - bias_tpr)\n",
    "        # if k2*bias_est_fpr - bias_fpr < 0:\n",
    "            # print(k2*bias_est_fpr - bias_fpr)\n",
    "\n",
    "        # Computing the upper bound and lower bounds under the assumption\n",
    "        u_bound_tpr.append(k1*bias_est_tpr)\n",
    "        u_bound_fpr.append(k2*bias_est_fpr)\n",
    "        i = i+1\n",
    "\n",
    "    diff_tpr = np.array(u_bound_tpr) - np.array(bias_tpr_list)\n",
    "    diff_fpr = np.array(u_bound_fpr) - np.array(bias_fpr_list)\n",
    "    # To handle numbers like -0.000001\n",
    "    diff_tpr[diff_tpr < 0] = 0\n",
    "    diff_fpr[diff_fpr < 0] = 0\n",
    "    diff_bound_tpr.append(diff_tpr)\n",
    "    diff_bound_fpr.append(diff_fpr)"
   ]
  },
  {
   "cell_type": "code",
   "execution_count": 16,
   "metadata": {},
   "outputs": [
    {
     "data": {
      "image/png": "[encoded data removed]",
      "text/plain": [
       "<Figure size 432x288 with 1 Axes>"
      ]
     },
     "metadata": {},
     "output_type": "display_data"
    }
   ],
   "source": [
    "# Generate KDE Plots\n",
    "sns.kdeplot(diff_bound_tpr[0], shade = True, label = r'$U$ = 0.05',cut = 0)\n",
    "sns.kdeplot(diff_bound_tpr[1], shade = True, label = r'$U$ = 0.15',cut = 0)\n",
    "# sns.kdeplot(diff_bound_tpr[2], shade = True, label = r'$U$ = 0.15',cut = 0)\n",
    "# sns.kdeplot(diff_bound_tpr[3], shade = True, label = r'$U$ = 0.20',cut = 0)\n",
    "plt.legend()\n",
    "plt.xlabel(r'$\\Delta_{TPR}$', fontsize=15)\n",
    "plt.savefig('Figures/newExp1/assump_tpr_bound.pdf',bbox_inches=\"tight\")"
   ]
  },
  {
   "cell_type": "code",
   "execution_count": 17,
   "metadata": {},
   "outputs": [
    {
     "data": {
      "image/png": "[encoded data removed]",
      "text/plain": [
       "<Figure size 432x288 with 1 Axes>"
      ]
     },
     "metadata": {},
     "output_type": "display_data"
    }
   ],
   "source": [
    "# Generate KDE Plots\n",
    "sns.kdeplot(diff_bound_fpr[0], shade = True, label = r'$U$ = 0.05',cut = 0)\n",
    "sns.kdeplot(diff_bound_fpr[1], shade = True, label = r'$U$ = 0.15',cut = 0)\n",
    "# sns.kdeplot(diff_bound_fpr[2], shade = True, label = r'$U$ = 0.15',cut = 0)\n",
    "# sns.kdeplot(diff_bound_fpr[3], shade = True, label = r'$U$ = 0.20',cut = 0)\n",
    "plt.legend()\n",
    "plt.xlabel(r'$\\Delta_{FPR}$', fontsize=15)\n",
    "plt.savefig('Figures/newExp1/assump_fpr_bound.pdf',bbox_inches=\"tight\")"
   ]
  }
 ],
 "metadata": {
  "kernelspec": {
   "display_name": "Python 3.10.5 ('cuda102')",
   "language": "python",
   "name": "python3"
  },
  "language_info": {
   "codemirror_mode": {
    "name": "ipython",
    "version": 3
   },
   "file_extension": ".py",
   "mimetype": "text/x-python",
   "name": "python",
   "nbconvert_exporter": "python",
   "pygments_lexer": "ipython3",
   "version": "3.10.5"
  },
  "orig_nbformat": 4,
  "vscode": {
   "interpreter": {
    "hash": "3480f17d4fb79fd692b6ed7a9ca0948306936357486d7718056d429d227b38c3"
   }
  }
 },
 "nbformat": 4,
 "nbformat_minor": 2
}
