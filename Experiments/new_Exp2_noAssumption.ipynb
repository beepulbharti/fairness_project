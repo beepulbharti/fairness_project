{
 "cells": [
  {
   "cell_type": "code",
   "execution_count": 1,
   "metadata": {},
   "outputs": [],
   "source": [
    "# Synthetic Experiment 2 for fairness \n",
    "\n",
    "# Load all necessary packages\n",
    "import numpy as np\n",
    "import pandas as pd\n",
    "import seaborn as sns\n",
    "import matplotlib.pyplot as plt\n",
    "from utils import generate_data, generate_a_hat, generate_y_hat, calc_gen_bounds, calculate_bias_metrics, calc_base_rates\n",
    "from updated_balancers import BinaryBalancer\n",
    "from tqdm import tqdm\n",
    "sns.set_theme()"
   ]
  },
  {
   "cell_type": "code",
   "execution_count": 6,
   "metadata": {},
   "outputs": [
    {
     "name": "stdout",
     "output_type": "stream",
     "text": [
      "min rate =  0.1757\n"
     ]
    }
   ],
   "source": [
    "# Set the experiment\n",
    "exp = 2\n",
    "\n",
    "# Generate data\n",
    "n = 10000\n",
    "e1 = 1.5\n",
    "e2 = 1.5\n",
    "b = 0.05\n",
    "group = 1\n",
    "X, a, y  = generate_data(n,e1,e2,b,group,exp)\n",
    "\n",
    "# Calculate base rates\n",
    "r,s,v,w = calc_base_rates(y,a)\n",
    "min_rate = min(r,s,v,w)\n",
    "print('min rate = ', min_rate)\n",
    "\n",
    "# Generate y_hat using random coefficients\n",
    "k = 1000\n",
    "mu_c = np.array([1,1,1])\n",
    "var_c = np.array([[0.1,0,0],[0,0.1,0],[0,0,0.1]])\n",
    "coeffs = np.random.multivariate_normal(mu_c,var_c,k).T\n",
    "y_prob, y_hat_mat = generate_y_hat(X,coeffs,exp)"
   ]
  },
  {
   "cell_type": "code",
   "execution_count": 7,
   "metadata": {},
   "outputs": [
    {
     "name": "stdout",
     "output_type": "stream",
     "text": [
      "a_hat_error =  0.0185\n"
     ]
    },
    {
     "name": "stderr",
     "output_type": "stream",
     "text": [
      "100%|██████████| 1000/1000 [00:22<00:00, 44.22it/s]\n"
     ]
    },
    {
     "name": "stdout",
     "output_type": "stream",
     "text": [
      "a_hat_error =  0.058\n"
     ]
    },
    {
     "name": "stderr",
     "output_type": "stream",
     "text": [
      "100%|██████████| 1000/1000 [00:22<00:00, 44.33it/s]\n"
     ]
    }
   ],
   "source": [
    "# Generate a_hat\n",
    "U_errors = [0.05,0.15]\n",
    "diff_bound_tpr = []\n",
    "diff_bound_fpr = []\n",
    "\n",
    "for u in U_errors:\n",
    "    a_hat = generate_a_hat(X[:,2],b,u)\n",
    "    a_error = np.sum(a_hat != a)/a_hat.shape[0]\n",
    "    bias_tpr_list = []\n",
    "    bias_fpr_list = []\n",
    "    u_bound_tpr = []\n",
    "    u_bound_fpr = []\n",
    "    print('a_hat_error = ', a_error)\n",
    "\n",
    "    for i in tqdm(range(k)): \n",
    "        y_hat = y_hat_mat[:,i]\n",
    "\n",
    "        # bias using true values of a\n",
    "        balancer = BinaryBalancer(y=y, a=a, y_=y_hat)\n",
    "        alpha, beta, tau, phi = calculate_bias_metrics(balancer)\n",
    "        # print('bias = ', np.abs(alpha-beta))\n",
    "        bias_tpr = np.abs(alpha - beta)\n",
    "        bias_tpr_list.append(bias_tpr)\n",
    "        bias_fpr = np.abs(tau-phi)\n",
    "        bias_fpr_list.append(bias_fpr)\n",
    "\n",
    "        # bias estimate using a_hat\n",
    "        balancer_h = BinaryBalancer(y=y, a=a_hat, y_=y_hat)\n",
    "        alpha_h, beta_h, tau_h , phi_h = calculate_bias_metrics(balancer_h)\n",
    "\n",
    "        # Computing the upper bound and lower bounds under the assumption\n",
    "        ub1_t, ub2_t = calc_gen_bounds(alpha_h,beta_h,a_error,r,s)\n",
    "        ub1_f, ub2_f = calc_gen_bounds(tau_h,phi_h,a_error,v,w)\n",
    "        u_bound_tpr.append(max(np.abs(ub1_t),np.abs(ub2_t)))\n",
    "        u_bound_fpr.append(max(np.abs(ub1_f),np.abs(ub2_f)))\n",
    "\n",
    "    diff_bound_tpr.append(np.array(u_bound_tpr) - np.array(bias_tpr_list))\n",
    "    diff_bound_fpr.append(np.array(u_bound_fpr) - np.array(bias_fpr_list))"
   ]
  },
  {
   "cell_type": "code",
   "execution_count": 10,
   "metadata": {},
   "outputs": [
    {
     "data": {
      "image/png": "[encoded data removed]",
      "text/plain": [
       "<Figure size 432x288 with 1 Axes>"
      ]
     },
     "metadata": {
      "needs_background": "light"
     },
     "output_type": "display_data"
    }
   ],
   "source": [
    "# Generate KDE Plots\n",
    "sns.kdeplot(diff_bound_tpr[0], shade = True, label = r'$U$ = 0.02',cut = 0)\n",
    "# sns.kdeplot(diff_bound[1], shade = True, label = r'$U$ = 0.10',cut = 0)\n",
    "sns.kdeplot(diff_bound_tpr[1], shade = True, label = r'$U$ = 0.06',cut = 0)\n",
    "# sns.kdeplot(diff_bound[3], shade = True, label = r'$U$ = 0.20',cut = 0)\n",
    "plt.legend()\n",
    "plt.xlabel(r'$\\Delta_{TPR}$', fontsize=15)\n",
    "plt.savefig('Figures/newExp2/bias_tpr_bound',bbox_inches=\"tight\")"
   ]
  },
  {
   "cell_type": "code",
   "execution_count": 11,
   "metadata": {},
   "outputs": [
    {
     "data": {
      "image/png": "[encoded data removed]",
      "text/plain": [
       "<Figure size 432x288 with 1 Axes>"
      ]
     },
     "metadata": {
      "needs_background": "light"
     },
     "output_type": "display_data"
    }
   ],
   "source": [
    "# Generate KDE Plots\n",
    "sns.kdeplot(diff_bound_fpr[0], shade = True, label = r'$U$ = 0.02',cut = 0)\n",
    "# sns.kdeplot(diff_bound[1], shade = True, label = r'$U$ = 0.10',cut = 0)\n",
    "sns.kdeplot(diff_bound_fpr[1], shade = True, label = r'$U$ = 0.06',cut = 0)\n",
    "# sns.kdeplot(diff_bound[3], shade = True, label = r'$U$ = 0.20',cut = 0)\n",
    "plt.legend()\n",
    "plt.xlabel(r'$\\Delta_{FPR}$', fontsize=15)\n",
    "plt.savefig('Figures/newExp2/bias_fpr_bound',bbox_inches=\"tight\")"
   ]
  },
  {
   "cell_type": "code",
   "execution_count": 12,
   "metadata": {},
   "outputs": [],
   "source": [
    "# bias control\n",
    "# Sample second dataset which will be used to generate fair classifiers \n",
    "X_2, a_2, y_2  = generate_data(n,e1,e2,b,group,exp)\n",
    "y_prob_2, y_hat_mat_2 = generate_y_hat(X_2,coeffs,exp)"
   ]
  },
  {
   "cell_type": "code",
   "execution_count": 13,
   "metadata": {},
   "outputs": [
    {
     "name": "stdout",
     "output_type": "stream",
     "text": [
      "a_hat_error =  0.0185\n"
     ]
    },
    {
     "name": "stderr",
     "output_type": "stream",
     "text": [
      "100%|██████████| 1000/1000 [01:00<00:00, 16.46it/s]\n"
     ]
    }
   ],
   "source": [
    "# Generate a_hat\n",
    "from utils import eo_postprocess\n",
    "\n",
    "U_errors = [0.05]\n",
    "diff_bound_tpr_pre = []\n",
    "diff_bound_fpr_pre = []\n",
    "diff_bound_tpr_post = []\n",
    "diff_bound_fpr_post = []\n",
    "\n",
    "for u in U_errors:\n",
    "    a_hat = generate_a_hat(X[:,2],b,u)\n",
    "    a_hat_2 = generate_a_hat(X_2[:,2],b,u)\n",
    "    a_error = np.sum(a_hat != a)/a_hat.shape[0]\n",
    "    bias_tpr_list_pre = []\n",
    "    bias_fpr_list_pre = []\n",
    "    bias_tpr_list_post = []\n",
    "    bias_fpr_list_post = []\n",
    "    u_bound_tpr_pre = []\n",
    "    u_bound_fpr_pre = []\n",
    "    u_bound_tpr_post = []\n",
    "    u_bound_fpr_post = []\n",
    "    print('a_hat_error = ', a_error)\n",
    "\n",
    "    for i in tqdm(range(k)): \n",
    "        y_hat = y_hat_mat[:,i]\n",
    "\n",
    "        # bias using true values of a\n",
    "        balancer = BinaryBalancer(y=y, a=a, y_=y_hat)\n",
    "        alpha, beta, tau, phi = calculate_bias_metrics(balancer)\n",
    "        # print('bias = ', np.abs(alpha-beta))\n",
    "        bias_tpr = np.abs(alpha - beta)\n",
    "        bias_tpr_list_pre.append(bias_tpr)\n",
    "        bias_fpr = np.abs(tau-phi)\n",
    "        bias_fpr_list_pre.append(bias_fpr)\n",
    "\n",
    "        # bias estimate using a_hat\n",
    "        balancer_h = BinaryBalancer(y=y, a=a_hat, y_=y_hat)\n",
    "        alpha_h, beta_h, tau_h , phi_h = calculate_bias_metrics(balancer_h)\n",
    "\n",
    "        # Computing the upper bounds before \n",
    "        ub1_t, ub2_t = calc_gen_bounds(alpha_h,beta_h,a_error,r,s)\n",
    "        ub1_f, ub2_f = calc_gen_bounds(tau_h,phi_h,a_error,v,w)\n",
    "        u_bound_tpr_pre.append(max(np.abs(ub1_t),np.abs(ub2_t)))\n",
    "        u_bound_fpr_pre.append(max(np.abs(ub1_f),np.abs(ub2_f)))\n",
    "\n",
    "        # Get fair model using validation set\n",
    "        y_hat_2 = y_hat_mat_2[:,i]\n",
    "        fair_yh2, fair_model = eo_postprocess(y,y_hat,a_hat)\n",
    "\n",
    "        # Use fair model to predict on \n",
    "        fair_yh = fair_model.predict(y_hat,a_hat)\n",
    "        balancer_fair = BinaryBalancer(y=y, a=a_hat, y_=fair_yh)\n",
    "        alpha_h, beta_h, tau_h , phi_h = calculate_bias_metrics(balancer_fair)\n",
    "\n",
    "        # Computing the upper bounds after \n",
    "        ub1_t, ub2_t = calc_gen_bounds(alpha_h,beta_h,a_error,r,s)\n",
    "        ub1_f, ub2_f = calc_gen_bounds(tau_h,phi_h,a_error,v,w)\n",
    "        u_bound_tpr_post.append(max(np.abs(ub1_t),np.abs(ub2_t)))\n",
    "        u_bound_fpr_post.append(max(np.abs(ub1_f),np.abs(ub2_f)))\n",
    "\n",
    "    diff_bound_tpr_pre.append(np.array(u_bound_tpr_pre))\n",
    "    diff_bound_fpr_pre.append(np.array(u_bound_fpr_pre))\n",
    "    diff_bound_tpr_post.append(np.array(u_bound_tpr_post))\n",
    "    diff_bound_fpr_post.append(np.array(u_bound_fpr_post))"
   ]
  },
  {
   "cell_type": "code",
   "execution_count": 31,
   "metadata": {},
   "outputs": [
    {
     "data": {
      "image/png": "[encoded data removed]",
      "text/plain": [
       "<Figure size 432x288 with 1 Axes>"
      ]
     },
     "metadata": {
      "needs_background": "light"
     },
     "output_type": "display_data"
    }
   ],
   "source": [
    "# Generate KDE Plots\n",
    "sns.kdeplot(diff_bound_tpr_post[0], shade = True, label = r'$\\tilde{B}_{TPR}$',cut = 0)\n",
    "sns.kdeplot(diff_bound_tpr_pre[0], shade = True, label = r'$B_{TPR}$',cut = 0)\n",
    "# sns.kdeplot(diff_bound[1], shade = True, label = r'$U$ = 0.10',cut = 0)\n",
    "# sns.kdeplot(diff_bound_tpr_post[0], shade = True, label = r'$After$',cut = 0)\n",
    "# sns.kdeplot(diff_bound[3], shade = True, label = r'$U$ = 0.20',cut = 0)\n",
    "plt.legend()\n",
    "plt.xlabel(r'$TPR\\ Bound$', fontsize=10)\n",
    "plt.savefig('Figures/newExp2/bias_tpr_control',bbox_inches=\"tight\")"
   ]
  },
  {
   "cell_type": "code",
   "execution_count": 30,
   "metadata": {},
   "outputs": [
    {
     "data": {
      "image/png": "[encoded data removed]",
      "text/plain": [
       "<Figure size 432x288 with 1 Axes>"
      ]
     },
     "metadata": {
      "needs_background": "light"
     },
     "output_type": "display_data"
    }
   ],
   "source": [
    "# Generate KDE Plots\n",
    "sns.kdeplot(diff_bound_fpr_post[0], shade = True, label = r'$\\tilde{B}_{FPR}$',cut = 0)\n",
    "sns.kdeplot(diff_bound_fpr_pre[0], shade = True, label = r'$B_{FPR}$',cut = 0)\n",
    "# sns.kdeplot(diff_bound_tpr_post[0], shade = True, label = r'$After$',cut = 0)\n",
    "# sns.kdeplot(diff_bound[3], shade = True, label = r'$U$ = 0.20',cut = 0)\n",
    "plt.legend()\n",
    "plt.xlabel(r'$Upper\\ Bound\\ of\\ bias_{FPR}$', fontsize=10)\n",
    "plt.savefig('Figures/newExp2/bias_fpr_control',bbox_inches=\"tight\")"
   ]
  },
  {
   "cell_type": "code",
   "execution_count": null,
   "metadata": {},
   "outputs": [],
   "source": []
  }
 ],
 "metadata": {
  "kernelspec": {
   "display_name": "Python 3.10.5 ('cuda102')",
   "language": "python",
   "name": "python3"
  },
  "language_info": {
   "codemirror_mode": {
    "name": "ipython",
    "version": 3
   },
   "file_extension": ".py",
   "mimetype": "text/x-python",
   "name": "python",
   "nbconvert_exporter": "python",
   "pygments_lexer": "ipython3",
   "version": "3.10.5"
  },
  "orig_nbformat": 4,
  "vscode": {
   "interpreter": {
    "hash": "3480f17d4fb79fd692b6ed7a9ca0948306936357486d7718056d429d227b38c3"
   }
  }
 },
 "nbformat": 4,
 "nbformat_minor": 2
}
