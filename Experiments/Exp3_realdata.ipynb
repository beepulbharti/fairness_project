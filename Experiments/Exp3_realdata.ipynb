{
 "cells": [
  {
   "cell_type": "markdown",
   "metadata": {},
   "source": [
    "Experiment 3: FIFA 20 Dataset from Kaggle"
   ]
  },
  {
   "cell_type": "code",
   "execution_count": 1,
   "metadata": {},
   "outputs": [],
   "source": [
    "# Import necessary packages\n",
    "import numpy as np\n",
    "import pandas as pd\n",
    "import matplotlib.pyplot as plt\n",
    "from tqdm import tqdm\n",
    "import seaborn as sns\n",
    "sns.set_theme()\n",
    "import os\n",
    "\n",
    "# sklearn\n",
    "from sklearn.ensemble import RandomForestClassifier \n",
    "from sklearn import metrics\n",
    "from sklearn.model_selection import train_test_split\n",
    "from sklearn.metrics import confusion_matrix\n",
    "\n",
    "# pytorch\n",
    "import torch\n",
    "from torch.optim import Adam\n",
    "from torch import nn\n",
    "\n",
    "# BERT from Huggingface\n",
    "from transformers import BertTokenizer\n",
    "from transformers import BertModel\n",
    "\n",
    "# Extra additional packages/functions\n",
    "from updated_balancers import BinaryBalancer\n",
    "from utils import calculate_bias_metrics, eo_postprocess, calc_gen_bounds, BertClassifier, train, Dataset"
   ]
  },
  {
   "cell_type": "code",
   "execution_count": 2,
   "metadata": {},
   "outputs": [],
   "source": [
    "# Import fifa 20 dataset\n",
    "all_data = pd.read_csv('players_20.csv')\n",
    "# all_data.head()"
   ]
  },
  {
   "cell_type": "code",
   "execution_count": 3,
   "metadata": {},
   "outputs": [
    {
     "name": "stdout",
     "output_type": "stream",
     "text": [
      "Number of players: 2553\n"
     ]
    }
   ],
   "source": [
    "# Set the nationalities you want to use\n",
    "nationalities = ['England','Argentina']\n",
    "\n",
    "# Keep relevant columns\n",
    "o_data = all_data[['long_name','age','nationality','overall','wage_eur']].copy(deep = True)\n",
    "\n",
    "# Change column names of nationality and wage_eur to a and y \n",
    "o_data.rename(columns = {'nationality':'a', 'wage_eur':'y'}, inplace = True)\n",
    "\n",
    "# Restrict to specified nationalities\n",
    "o_data = o_data.loc[(o_data['a'].isin([nationalities[0], nationalities[1]]))]\n",
    "print('Number of players:', o_data.shape[0])\n",
    "\n",
    "# Only keep relevant feagires and outcomes\n",
    "data = o_data[['long_name','age','a','overall','y']].copy(deep = True)\n",
    "\n",
    "# Binarize nationality\n",
    "data = data.replace(nationalities[0],0)\n",
    "data = data.replace(nationalities[1],1)\n",
    "\n",
    "# Reset the index\n",
    "data = data.reset_index(drop=True)\n",
    "\n",
    "# Binarize outcome using median outcome\n",
    "data.loc[data['y'] < np.median(data['y']), 'y'] = 0\n",
    "data.loc[data['y'] >= np.median(data['y']), 'y'] = 1\n",
    "# data.head()"
   ]
  },
  {
   "cell_type": "code",
   "execution_count": 4,
   "metadata": {},
   "outputs": [
    {
     "name": "stdout",
     "output_type": "stream",
     "text": [
      "min rate =  0.11711711711711711\n"
     ]
    }
   ],
   "source": [
    "# Create new column to stratify data and calculate base rates\n",
    "group = []\n",
    "for i in range(data.shape[0]):\n",
    "    # w\n",
    "    if np.sum(data[['a','y']].iloc[i] == [0,0]) == 2:\n",
    "        group.append(1)\n",
    "    # v\n",
    "    if np.sum(data[['a','y']].iloc[i] == [1,0]) == 2:\n",
    "        group.append(2)\n",
    "    # s\n",
    "    if np.sum(data[['a','y']].iloc[i] == [0,1]) == 2:\n",
    "        group.append(3)\n",
    "    # r\n",
    "    if np.sum(data[['a','y']].iloc[i] == [1,1]) == 2:\n",
    "        group.append(4)\n",
    "\n",
    "# Add column to the data\n",
    "data['group'] = group\n",
    "\n",
    "# Calculate base rates\n",
    "total = data.shape[0]\n",
    "r = np.sum(data['group'] == 4)/total\n",
    "s = np.sum(data['group'] == 3)/total\n",
    "v = np.sum(data['group'] == 2)/total\n",
    "w= np.sum(data['group'] == 1)/total\n",
    "print('min rate = ', min(r,s,w,v))"
   ]
  },
  {
   "cell_type": "code",
   "execution_count": 5,
   "metadata": {},
   "outputs": [
    {
     "name": "stderr",
     "output_type": "stream",
     "text": [
      "Some weights of the model checkpoint at bert-base-cased were not used when initializing BertModel: ['cls.seq_relationship.bias', 'cls.seq_relationship.weight', 'cls.predictions.transform.dense.bias', 'cls.predictions.transform.LayerNorm.weight', 'cls.predictions.transform.dense.weight', 'cls.predictions.transform.LayerNorm.bias', 'cls.predictions.decoder.weight', 'cls.predictions.bias']\n",
      "- This IS expected if you are initializing BertModel from the checkpoint of a model trained on another task or with another architecture (e.g. initializing a BertForSequenceClassification model from a BertForPreTraining model).\n",
      "- This IS NOT expected if you are initializing BertModel from the checkpoint of a model that you expect to be exactly identical (initializing a BertForSequenceClassification model from a BertForSequenceClassification model).\n"
     ]
    }
   ],
   "source": [
    "# Experiment Parameters\n",
    "EPOCHS = 10\n",
    "model = BertClassifier()\n",
    "LR = 1e-6 "
   ]
  },
  {
   "cell_type": "code",
   "execution_count": 6,
   "metadata": {},
   "outputs": [],
   "source": [
    "# Splitting data into necessary datasets\n",
    "d_xa, d_remain = train_test_split(data, train_size = 0.7, stratify=data['group'],random_state=10)"
   ]
  },
  {
   "cell_type": "code",
   "execution_count": 7,
   "metadata": {},
   "outputs": [
    {
     "name": "stderr",
     "output_type": "stream",
     "text": [
      "100%|██████████| 670/670 [00:32<00:00, 20.55it/s]\n"
     ]
    },
    {
     "name": "stdout",
     "output_type": "stream",
     "text": [
      "Epochs: 1 | Train Loss:  0.540             | Train Accuracy:  0.745             | Val Loss:  0.323             | Val Accuracy:  0.944\n"
     ]
    },
    {
     "name": "stderr",
     "output_type": "stream",
     "text": [
      "100%|██████████| 670/670 [00:31<00:00, 21.13it/s]\n"
     ]
    },
    {
     "name": "stdout",
     "output_type": "stream",
     "text": [
      "Epochs: 2 | Train Loss:  0.271             | Train Accuracy:  0.949             | Val Loss:  0.199             | Val Accuracy:  0.964\n"
     ]
    },
    {
     "name": "stderr",
     "output_type": "stream",
     "text": [
      "100%|██████████| 670/670 [00:32<00:00, 20.42it/s]\n"
     ]
    },
    {
     "name": "stdout",
     "output_type": "stream",
     "text": [
      "Epochs: 3 | Train Loss:  0.185             | Train Accuracy:  0.963             | Val Loss:  0.164             | Val Accuracy:  0.962\n"
     ]
    },
    {
     "name": "stderr",
     "output_type": "stream",
     "text": [
      "100%|██████████| 670/670 [00:32<00:00, 20.48it/s]\n"
     ]
    },
    {
     "name": "stdout",
     "output_type": "stream",
     "text": [
      "Epochs: 4 | Train Loss:  0.132             | Train Accuracy:  0.975             | Val Loss:  0.154             | Val Accuracy:  0.957\n"
     ]
    },
    {
     "name": "stderr",
     "output_type": "stream",
     "text": [
      "100%|██████████| 670/670 [00:32<00:00, 20.59it/s]\n"
     ]
    },
    {
     "name": "stdout",
     "output_type": "stream",
     "text": [
      "Epochs: 5 | Train Loss:  0.110             | Train Accuracy:  0.975             | Val Loss:  0.146             | Val Accuracy:  0.962\n"
     ]
    },
    {
     "name": "stderr",
     "output_type": "stream",
     "text": [
      "100%|██████████| 670/670 [00:31<00:00, 21.09it/s]\n"
     ]
    },
    {
     "name": "stdout",
     "output_type": "stream",
     "text": [
      "Epochs: 6 | Train Loss:  0.089             | Train Accuracy:  0.984             | Val Loss:  0.150             | Val Accuracy:  0.960\n"
     ]
    },
    {
     "name": "stderr",
     "output_type": "stream",
     "text": [
      "100%|██████████| 670/670 [00:31<00:00, 21.10it/s]\n"
     ]
    },
    {
     "name": "stdout",
     "output_type": "stream",
     "text": [
      "Epochs: 7 | Train Loss:  0.075             | Train Accuracy:  0.986             | Val Loss:  0.145             | Val Accuracy:  0.962\n"
     ]
    },
    {
     "name": "stderr",
     "output_type": "stream",
     "text": [
      "100%|██████████| 670/670 [00:31<00:00, 21.11it/s]\n"
     ]
    },
    {
     "name": "stdout",
     "output_type": "stream",
     "text": [
      "Epochs: 8 | Train Loss:  0.059             | Train Accuracy:  0.989             | Val Loss:  0.154             | Val Accuracy:  0.960\n"
     ]
    },
    {
     "name": "stderr",
     "output_type": "stream",
     "text": [
      "100%|██████████| 670/670 [00:31<00:00, 21.12it/s]\n"
     ]
    },
    {
     "name": "stdout",
     "output_type": "stream",
     "text": [
      "Epochs: 9 | Train Loss:  0.050             | Train Accuracy:  0.993             | Val Loss:  0.147             | Val Accuracy:  0.962\n"
     ]
    },
    {
     "name": "stderr",
     "output_type": "stream",
     "text": [
      "100%|██████████| 670/670 [00:31<00:00, 21.08it/s]\n"
     ]
    },
    {
     "name": "stdout",
     "output_type": "stream",
     "text": [
      "Epochs: 10 | Train Loss:  0.039             | Train Accuracy:  0.992             | Val Loss:  0.162             | Val Accuracy:  0.957\n"
     ]
    }
   ],
   "source": [
    "# Split d_xa into d_xa_train and d_xa_val\n",
    "d_xa_train, d_xa_val = train_test_split(d_xa, train_size = 0.75, stratify=d_xa['group'],random_state=10)\n",
    "\n",
    "# Train model\n",
    "train(model, d_xa_train, d_xa_val, LR, EPOCHS)"
   ]
  },
  {
   "cell_type": "markdown",
   "metadata": {},
   "source": [
    "Enforcing fairness"
   ]
  },
  {
   "cell_type": "code",
   "execution_count": 17,
   "metadata": {},
   "outputs": [
    {
     "name": "stderr",
     "output_type": "stream",
     "text": [
      "100%|██████████| 100/100 [01:17<00:00,  1.28it/s]\n"
     ]
    }
   ],
   "source": [
    "# Will repeatedly split data into\n",
    "# d_xy_train\n",
    "# d_xy_test\n",
    "# d_xy_tune\n",
    "\n",
    "bias_t_o = []\n",
    "bias_f_o = []\n",
    "bias_t_n = []\n",
    "bias_f_n = []\n",
    "u_bound_t_o = []\n",
    "l_bound_t_o = []\n",
    "u_bound_f_o = []\n",
    "l_bound_f_o = []\n",
    "u_bound_t_n = []\n",
    "l_bound_t_n = []\n",
    "u_bound_f_n = []\n",
    "l_bound_f_n = []\n",
    "\n",
    "new_bias_h_t = []\n",
    "new_bias_h_f = []\n",
    "\n",
    "for i in tqdm(range(100)):\n",
    "    d_xy_train, d_xy_test = train_test_split(d_remain, train_size = 0.7, stratify=d_remain['group'])\n",
    "    # d_xy_test, d_xay = train_test_split(d_xy_remain, train_size = 0.95, stratify=d_xy_remain['group'])\n",
    "\n",
    "    # Create Classifier\n",
    "    clf = RandomForestClassifier(n_estimators=50)\n",
    "\n",
    "    # Split data into features and labels\n",
    "    x_train = d_xy_train[['age','overall']]\n",
    "    y_train = d_xy_train['y']\n",
    "    x_test = d_xy_test[['age','overall']]\n",
    "    y_test = d_xy_test['y']\n",
    "\n",
    "    # Fit classifier\n",
    "    clf.fit(x_train.to_numpy(),y_train)\n",
    "\n",
    "    # Model Accuracy:\n",
    "    # print(\"Accuracy:\", metrics.accuracy_score(y_test, clf.predict(x_test.to_numpy())))\n",
    "\n",
    "    # Evaluate probabilities/y_hat on test set\n",
    "    y_prob = clf.predict_proba(x_test.to_numpy())\n",
    "    \n",
    "    # Add y_prob/y_hat to data\n",
    "    d_xy_test['y_prob'] = y_prob[:,1]\n",
    "    d_xy_test['y_hat'] = (y_prob[:,1] >= 0.5)\n",
    "    d_xy_test['y_hat'] = y_prob[:,1]\n",
    "\n",
    "    # Calculate bias metrics with respect to a\n",
    "    alpha, beta, tau, phi = calculate_bias_metrics(d_xy_test)\n",
    "    bias_t_o.append(alpha - beta)\n",
    "    bias_f_o.append(tau - phi)\n",
    "\n",
    "    # Calculating a_hat using the trained BERT model\n",
    "    xy_test = Dataset(d_xy_test)\n",
    "    xy_test_dataloader = torch.utils.data.DataLoader(xy_test, batch_size=len(xy_test))\n",
    "    device = torch.device(\"cpu\")\n",
    "    model.to(device)\n",
    "    model = model.eval()\n",
    "    with torch.no_grad():\n",
    "        for xy_test_input, xy_test_label, xy_test_remain in xy_test_dataloader:\n",
    "            xy_test_label = xy_test_label.to(device).float()\n",
    "            mask = xy_test_input['attention_mask'].to(device)\n",
    "            input_id = xy_test_input['input_ids'].squeeze(1).to(device)\n",
    "            output = model(input_id, mask).reshape(1,-1)[0]\n",
    "    \n",
    "    # Replace a column with a_hat to data\n",
    "    a_true = d_xy_test['a']\n",
    "    d_xy_test['a'] = (output >= 0.5)\n",
    "    a_error = np.sum(d_xy_test['a'] != a_true)/d_xy_test.shape[0]\n",
    "\n",
    "    # Computing upper and lower bounds\n",
    "    alpha_hat, beta_hat, tau_hat, phi_hat = calculate_bias_metrics(d_xy_test)\n",
    "    ub_t_o, lb_t_o = calc_gen_bounds(alpha_hat,beta_hat,a_error,r,s)\n",
    "    ub_f_o, lb_f_o = calc_gen_bounds(tau_hat,phi_hat,a_error,v,w)\n",
    "    u_bound_t_o.append(ub_t_o)\n",
    "    l_bound_t_o.append(lb_t_o)\n",
    "    u_bound_f_o.append(ub_f_o)\n",
    "    l_bound_f_o.append(lb_f_o)\n",
    "\n",
    "    '''\n",
    "    # Using d_xay to learn a fair f wrt to a_hat\n",
    "\n",
    "    # Evaluate probabilities/y_hat on d_xay set\n",
    "    y_prob = clf.predict_proba(d_xay[['age','overall']].to_numpy())\n",
    "    \n",
    "    # Add y_prob/y_hat to data\n",
    "    d_xay['y_prob'] = y_prob[:,1]\n",
    "    d_xay['y_hat'] = (y_prob[:,1] >= 0.5)\n",
    "\n",
    "    # Calculating a_hat using the trained BERT model\n",
    "    xay = Dataset(d_xay)\n",
    "    xay_dataloader = torch.utils.data.DataLoader(xay, batch_size=len(xay))\n",
    "    device = torch.device(\"cpu\")\n",
    "    model.to(device)\n",
    "    model = model.eval()\n",
    "    with torch.no_grad():\n",
    "        for xay_input, xay_label, xay_remain in xay_dataloader:\n",
    "            xay_label = xay_label.to(device).float()\n",
    "            mask = xay_input['attention_mask'].to(device)\n",
    "            input_id = xay_input['input_ids'].squeeze(1).to(device)\n",
    "            output = model(input_id, mask).reshape(1,-1)[0]\n",
    "\n",
    "    # Replace a column with a_hat to data\n",
    "    d_xay['a'] = np.array((output >= 0.5)).astype('float')\n",
    "    # a_error = np.sum(d_xy_test['a'] != d_xy_test['nationality'])/d_xy_test.shape[0]\n",
    "    '''\n",
    "\n",
    "    # Learn fair f\n",
    "    _, fair_model = eo_postprocess(d_xy_test)\n",
    "\n",
    "    # Calculate new bias_estimates\n",
    "    df_ah_fair = d_xy_test.copy(deep = True)\n",
    "    df_ah_fair.y_hat = fair_model.predict(d_xy_test.y_prob.values,d_xy_test.a.values)\n",
    "\n",
    "    # Calculate est bias_tpr and bias_fpr\n",
    "    alpha_hat_f, beta_hat_f, tau_hat_f, phi_hat_f = calculate_bias_metrics(df_ah_fair)\n",
    "    new_bias_h_t.append(alpha_hat_f - beta_hat_f)\n",
    "    new_bias_h_f.append(tau_hat_f - phi_hat_f)\n",
    "\n",
    "    # Computing the new upper bound and lower bounds under the assumption\n",
    "    ub_t_n, lb_t_n = calc_gen_bounds(alpha_hat_f,beta_hat_f,a_error,r,s)\n",
    "    ub_f_n, lb_f_n = calc_gen_bounds(tau_hat_f,phi_hat_f,a_error,v,w)\n",
    "    l_bound_t_n.append(lb_t_n)\n",
    "    l_bound_f_n.append(lb_f_n)\n",
    "    u_bound_t_n.append(ub_t_n)\n",
    "    u_bound_f_n.append(ub_f_n)\n",
    "\n",
    "    # Calculate new true bias wrt to a with fair f\n",
    "    d_xy_test['a'] = a_true\n",
    "    yh_fair = fair_model.predict(d_xy_test.y_prob.values,d_xy_test.a.values)\n",
    "    df_fair = d_xy_test.copy(deep=True)\n",
    "    df_fair.y_hat = yh_fair\n",
    "    alpha_n, beta_n, tau_n, phi_n = calculate_bias_metrics(df_fair)\n",
    "\n",
    "    # New bias\n",
    "    bias_t_n.append(alpha_n - beta_n)\n",
    "    bias_f_n.append(tau_n - phi_n)"
   ]
  },
  {
   "cell_type": "code",
   "execution_count": 18,
   "metadata": {},
   "outputs": [],
   "source": [
    "# Computing max distributions\n",
    "indices = ((np.abs(new_bias_h_t) <= 0.05).astype('float') + (np.abs(new_bias_h_f) <= 0.05).astype('float')) == 2\n",
    "max_t_o = np.maximum(np.abs(u_bound_t_o)[indices],np.abs(l_bound_t_o)[indices])\n",
    "max_t_n = np.maximum(np.abs(u_bound_t_n)[indices],np.abs(l_bound_t_n)[indices])\n",
    "max_f_o = np.maximum(np.abs(u_bound_f_o)[indices],np.abs(l_bound_f_o)[indices])\n",
    "max_f_n = np.maximum(np.abs(u_bound_f_n)[indices],np.abs(l_bound_f_n)[indices])"
   ]
  },
  {
   "cell_type": "code",
   "execution_count": 19,
   "metadata": {},
   "outputs": [
    {
     "data": {
      "text/plain": [
       "<matplotlib.legend.Legend at 0x7f939c2a2470>"
      ]
     },
     "execution_count": 19,
     "metadata": {},
     "output_type": "execute_result"
    },
    {
     "data": {
      "image/png": "[encoded data removed]",
      "text/plain": [
       "<Figure size 432x288 with 1 Axes>"
      ]
     },
     "metadata": {
      "needs_background": "light"
     },
     "output_type": "display_data"
    }
   ],
   "source": [
    "# Kde plots: Upper bound\n",
    "sns.kdeplot(max_t_o,shade=True, cut = 0, label = '$TPR_{m}$',linestyle='--', color = 'blue')\n",
    "sns.kdeplot(np.array(np.abs(bias_t_o)[indices]), shade = True, cut=0, label = r'$|bias_{TPR}(f)|$', color = 'black', linestyle='--')\n",
    "sns.kdeplot(max_t_n,shade=True, cut = 0,label = r'$\\widetilde{TPR}_{m}$', color = 'red')\n",
    "sns.kdeplot(np.array(np.abs(bias_t_n)[indices]),shade=True, cut = 0, label = r'$|bias_{TPR}(\\tilde{f})|$',color='black')\n",
    "plt.legend()\n",
    "# plt.savefig('Figures/Exp3/real_data_tpr_control_germany_england.png',bbox_inches=\"tight\")"
   ]
  },
  {
   "cell_type": "code",
   "execution_count": 20,
   "metadata": {},
   "outputs": [
    {
     "data": {
      "text/plain": [
       "<matplotlib.legend.Legend at 0x7f93b348f1c0>"
      ]
     },
     "execution_count": 20,
     "metadata": {},
     "output_type": "execute_result"
    },
    {
     "data": {
      "image/png": "[encoded data removed]",
      "text/plain": [
       "<Figure size 432x288 with 1 Axes>"
      ]
     },
     "metadata": {
      "needs_background": "light"
     },
     "output_type": "display_data"
    }
   ],
   "source": [
    "# Kde plots: Upper bound\n",
    "sns.kdeplot(max_f_o,shade=True, cut = 0, label = '$FPR_{m}$',linestyle='--', color = 'blue')\n",
    "sns.kdeplot(np.array(np.abs(bias_f_o))[indices], shade = True, cut=0, label = r'$|bias_{FPR}(f)|$', color = 'black', linestyle='--')\n",
    "sns.kdeplot(max_f_n,shade=True, cut = 0,label = r'$\\widetilde{FPR}_{m}$', color = 'red')\n",
    "sns.kdeplot(np.array(np.abs(bias_f_n)[indices]),shade=True, cut = 0, label = r'$|bias_{FPR}(\\tilde{f})|$',color='black')\n",
    "plt.legend()\n",
    "# plt.savefig('Figures/Exp3/real_data_fpr_control_germany_england.png',bbox_inches=\"tight\")"
   ]
  }
 ],
 "metadata": {
  "kernelspec": {
   "display_name": "Python 3.10.4 ('cuda102')",
   "language": "python",
   "name": "python3"
  },
  "language_info": {
   "codemirror_mode": {
    "name": "ipython",
    "version": 3
   },
   "file_extension": ".py",
   "mimetype": "text/x-python",
   "name": "python",
   "nbconvert_exporter": "python",
   "pygments_lexer": "ipython3",
   "version": "3.10.5"
  },
  "orig_nbformat": 4,
  "vscode": {
   "interpreter": {
    "hash": "3480f17d4fb79fd692b6ed7a9ca0948306936357486d7718056d429d227b38c3"
   }
  }
 },
 "nbformat": 4,
 "nbformat_minor": 2
}
