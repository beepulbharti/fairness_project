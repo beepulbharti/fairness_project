{
 "cells": [
  {
   "cell_type": "markdown",
   "metadata": {},
   "source": [
    "Experiment 3: FIFA 20 Dataset from Kaggle"
   ]
  },
  {
   "cell_type": "code",
   "execution_count": 4,
   "metadata": {},
   "outputs": [],
   "source": [
    "# Import necessary packages\n",
    "import numpy as np\n",
    "import pandas as pd\n",
    "import matplotlib.pyplot as plt\n",
    "from tqdm import tqdm\n",
    "import seaborn as sns\n",
    "sns.set_theme()\n",
    "import os\n",
    "\n",
    "# sklearn\n",
    "from sklearn.ensemble import RandomForestClassifier \n",
    "from sklearn import metrics\n",
    "from sklearn.model_selection import train_test_split\n",
    "from sklearn.metrics import confusion_matrix\n",
    "\n",
    "# pytorch\n",
    "import torch\n",
    "from torch.optim import Adam\n",
    "from torch import nn\n",
    "\n",
    "# BERT from Huggingface\n",
    "from transformers import BertTokenizer\n",
    "from transformers import BertModel\n",
    "\n",
    "# Dataset class\n",
    "\n",
    "# Extra additional packages/functions\n",
    "from balancers import BinaryBalancer\n",
    "from utils import calculate_bias_metrics, eo_postprocess, calc_gen_bounds"
   ]
  },
  {
   "cell_type": "code",
   "execution_count": 5,
   "metadata": {},
   "outputs": [
    {
     "data": {
      "text/plain": [
       "True"
      ]
     },
     "execution_count": 5,
     "metadata": {},
     "output_type": "execute_result"
    }
   ],
   "source": [
    "# Check CUDA\n",
    "os.environ['CUDE_VISIBLE_DEVICES'] = '0'\n",
    "torch.cuda.is_available()"
   ]
  },
  {
   "cell_type": "code",
   "execution_count": 6,
   "metadata": {},
   "outputs": [
    {
     "data": {
      "text/html": [
       "<div>\n",
       "<style scoped>\n",
       "    .dataframe tbody tr th:only-of-type {\n",
       "        vertical-align: middle;\n",
       "    }\n",
       "\n",
       "    .dataframe tbody tr th {\n",
       "        vertical-align: top;\n",
       "    }\n",
       "\n",
       "    .dataframe thead th {\n",
       "        text-align: right;\n",
       "    }\n",
       "</style>\n",
       "<table border=\"1\" class=\"dataframe\">\n",
       "  <thead>\n",
       "    <tr style=\"text-align: right;\">\n",
       "      <th></th>\n",
       "      <th>sofifa_id</th>\n",
       "      <th>player_url</th>\n",
       "      <th>short_name</th>\n",
       "      <th>long_name</th>\n",
       "      <th>age</th>\n",
       "      <th>dob</th>\n",
       "      <th>height_cm</th>\n",
       "      <th>weight_kg</th>\n",
       "      <th>nationality</th>\n",
       "      <th>club</th>\n",
       "      <th>...</th>\n",
       "      <th>lwb</th>\n",
       "      <th>ldm</th>\n",
       "      <th>cdm</th>\n",
       "      <th>rdm</th>\n",
       "      <th>rwb</th>\n",
       "      <th>lb</th>\n",
       "      <th>lcb</th>\n",
       "      <th>cb</th>\n",
       "      <th>rcb</th>\n",
       "      <th>rb</th>\n",
       "    </tr>\n",
       "  </thead>\n",
       "  <tbody>\n",
       "    <tr>\n",
       "      <th>0</th>\n",
       "      <td>158023</td>\n",
       "      <td>https://sofifa.com/player/158023/lionel-messi/...</td>\n",
       "      <td>L. Messi</td>\n",
       "      <td>Lionel Andrés Messi Cuccittini</td>\n",
       "      <td>32</td>\n",
       "      <td>1987-06-24</td>\n",
       "      <td>170</td>\n",
       "      <td>72</td>\n",
       "      <td>Argentina</td>\n",
       "      <td>FC Barcelona</td>\n",
       "      <td>...</td>\n",
       "      <td>68+2</td>\n",
       "      <td>66+2</td>\n",
       "      <td>66+2</td>\n",
       "      <td>66+2</td>\n",
       "      <td>68+2</td>\n",
       "      <td>63+2</td>\n",
       "      <td>52+2</td>\n",
       "      <td>52+2</td>\n",
       "      <td>52+2</td>\n",
       "      <td>63+2</td>\n",
       "    </tr>\n",
       "    <tr>\n",
       "      <th>1</th>\n",
       "      <td>20801</td>\n",
       "      <td>https://sofifa.com/player/20801/c-ronaldo-dos-...</td>\n",
       "      <td>Cristiano Ronaldo</td>\n",
       "      <td>Cristiano Ronaldo dos Santos Aveiro</td>\n",
       "      <td>34</td>\n",
       "      <td>1985-02-05</td>\n",
       "      <td>187</td>\n",
       "      <td>83</td>\n",
       "      <td>Portugal</td>\n",
       "      <td>Juventus</td>\n",
       "      <td>...</td>\n",
       "      <td>65+3</td>\n",
       "      <td>61+3</td>\n",
       "      <td>61+3</td>\n",
       "      <td>61+3</td>\n",
       "      <td>65+3</td>\n",
       "      <td>61+3</td>\n",
       "      <td>53+3</td>\n",
       "      <td>53+3</td>\n",
       "      <td>53+3</td>\n",
       "      <td>61+3</td>\n",
       "    </tr>\n",
       "    <tr>\n",
       "      <th>2</th>\n",
       "      <td>190871</td>\n",
       "      <td>https://sofifa.com/player/190871/neymar-da-sil...</td>\n",
       "      <td>Neymar Jr</td>\n",
       "      <td>Neymar da Silva Santos Junior</td>\n",
       "      <td>27</td>\n",
       "      <td>1992-02-05</td>\n",
       "      <td>175</td>\n",
       "      <td>68</td>\n",
       "      <td>Brazil</td>\n",
       "      <td>Paris Saint-Germain</td>\n",
       "      <td>...</td>\n",
       "      <td>66+3</td>\n",
       "      <td>61+3</td>\n",
       "      <td>61+3</td>\n",
       "      <td>61+3</td>\n",
       "      <td>66+3</td>\n",
       "      <td>61+3</td>\n",
       "      <td>46+3</td>\n",
       "      <td>46+3</td>\n",
       "      <td>46+3</td>\n",
       "      <td>61+3</td>\n",
       "    </tr>\n",
       "    <tr>\n",
       "      <th>3</th>\n",
       "      <td>200389</td>\n",
       "      <td>https://sofifa.com/player/200389/jan-oblak/20/...</td>\n",
       "      <td>J. Oblak</td>\n",
       "      <td>Jan Oblak</td>\n",
       "      <td>26</td>\n",
       "      <td>1993-01-07</td>\n",
       "      <td>188</td>\n",
       "      <td>87</td>\n",
       "      <td>Slovenia</td>\n",
       "      <td>Atlético Madrid</td>\n",
       "      <td>...</td>\n",
       "      <td>NaN</td>\n",
       "      <td>NaN</td>\n",
       "      <td>NaN</td>\n",
       "      <td>NaN</td>\n",
       "      <td>NaN</td>\n",
       "      <td>NaN</td>\n",
       "      <td>NaN</td>\n",
       "      <td>NaN</td>\n",
       "      <td>NaN</td>\n",
       "      <td>NaN</td>\n",
       "    </tr>\n",
       "    <tr>\n",
       "      <th>4</th>\n",
       "      <td>183277</td>\n",
       "      <td>https://sofifa.com/player/183277/eden-hazard/2...</td>\n",
       "      <td>E. Hazard</td>\n",
       "      <td>Eden Hazard</td>\n",
       "      <td>28</td>\n",
       "      <td>1991-01-07</td>\n",
       "      <td>175</td>\n",
       "      <td>74</td>\n",
       "      <td>Belgium</td>\n",
       "      <td>Real Madrid</td>\n",
       "      <td>...</td>\n",
       "      <td>66+3</td>\n",
       "      <td>63+3</td>\n",
       "      <td>63+3</td>\n",
       "      <td>63+3</td>\n",
       "      <td>66+3</td>\n",
       "      <td>61+3</td>\n",
       "      <td>49+3</td>\n",
       "      <td>49+3</td>\n",
       "      <td>49+3</td>\n",
       "      <td>61+3</td>\n",
       "    </tr>\n",
       "  </tbody>\n",
       "</table>\n",
       "<p>5 rows × 104 columns</p>\n",
       "</div>"
      ],
      "text/plain": [
       "   sofifa_id                                         player_url  \\\n",
       "0     158023  https://sofifa.com/player/158023/lionel-messi/...   \n",
       "1      20801  https://sofifa.com/player/20801/c-ronaldo-dos-...   \n",
       "2     190871  https://sofifa.com/player/190871/neymar-da-sil...   \n",
       "3     200389  https://sofifa.com/player/200389/jan-oblak/20/...   \n",
       "4     183277  https://sofifa.com/player/183277/eden-hazard/2...   \n",
       "\n",
       "          short_name                            long_name  age         dob  \\\n",
       "0           L. Messi       Lionel Andrés Messi Cuccittini   32  1987-06-24   \n",
       "1  Cristiano Ronaldo  Cristiano Ronaldo dos Santos Aveiro   34  1985-02-05   \n",
       "2          Neymar Jr        Neymar da Silva Santos Junior   27  1992-02-05   \n",
       "3           J. Oblak                            Jan Oblak   26  1993-01-07   \n",
       "4          E. Hazard                          Eden Hazard   28  1991-01-07   \n",
       "\n",
       "   height_cm  weight_kg nationality                 club  ...   lwb   ldm  \\\n",
       "0        170         72   Argentina         FC Barcelona  ...  68+2  66+2   \n",
       "1        187         83    Portugal             Juventus  ...  65+3  61+3   \n",
       "2        175         68      Brazil  Paris Saint-Germain  ...  66+3  61+3   \n",
       "3        188         87    Slovenia      Atlético Madrid  ...   NaN   NaN   \n",
       "4        175         74     Belgium          Real Madrid  ...  66+3  63+3   \n",
       "\n",
       "    cdm   rdm   rwb    lb   lcb    cb   rcb    rb  \n",
       "0  66+2  66+2  68+2  63+2  52+2  52+2  52+2  63+2  \n",
       "1  61+3  61+3  65+3  61+3  53+3  53+3  53+3  61+3  \n",
       "2  61+3  61+3  66+3  61+3  46+3  46+3  46+3  61+3  \n",
       "3   NaN   NaN   NaN   NaN   NaN   NaN   NaN   NaN  \n",
       "4  63+3  63+3  66+3  61+3  49+3  49+3  49+3  61+3  \n",
       "\n",
       "[5 rows x 104 columns]"
      ]
     },
     "execution_count": 6,
     "metadata": {},
     "output_type": "execute_result"
    }
   ],
   "source": [
    "# Import fifa 20 dataset\n",
    "all_data = pd.read_csv('players_20.csv')\n",
    "all_data.head()"
   ]
  },
  {
   "cell_type": "code",
   "execution_count": 50,
   "metadata": {},
   "outputs": [
    {
     "name": "stdout",
     "output_type": "stream",
     "text": [
      "Number of players: 2883\n"
     ]
    },
    {
     "data": {
      "text/html": [
       "<div>\n",
       "<style scoped>\n",
       "    .dataframe tbody tr th:only-of-type {\n",
       "        vertical-align: middle;\n",
       "    }\n",
       "\n",
       "    .dataframe tbody tr th {\n",
       "        vertical-align: top;\n",
       "    }\n",
       "\n",
       "    .dataframe thead th {\n",
       "        text-align: right;\n",
       "    }\n",
       "</style>\n",
       "<table border=\"1\" class=\"dataframe\">\n",
       "  <thead>\n",
       "    <tr style=\"text-align: right;\">\n",
       "      <th></th>\n",
       "      <th>long_name</th>\n",
       "      <th>age</th>\n",
       "      <th>a</th>\n",
       "      <th>overall</th>\n",
       "      <th>y</th>\n",
       "    </tr>\n",
       "  </thead>\n",
       "  <tbody>\n",
       "    <tr>\n",
       "      <th>0</th>\n",
       "      <td>Marc-André ter Stegen</td>\n",
       "      <td>27</td>\n",
       "      <td>1</td>\n",
       "      <td>90</td>\n",
       "      <td>1</td>\n",
       "    </tr>\n",
       "    <tr>\n",
       "      <th>1</th>\n",
       "      <td>Harry Kane</td>\n",
       "      <td>25</td>\n",
       "      <td>0</td>\n",
       "      <td>89</td>\n",
       "      <td>1</td>\n",
       "    </tr>\n",
       "    <tr>\n",
       "      <th>2</th>\n",
       "      <td>Raheem Sterling</td>\n",
       "      <td>24</td>\n",
       "      <td>0</td>\n",
       "      <td>88</td>\n",
       "      <td>1</td>\n",
       "    </tr>\n",
       "    <tr>\n",
       "      <th>3</th>\n",
       "      <td>Manuel Neuer</td>\n",
       "      <td>33</td>\n",
       "      <td>1</td>\n",
       "      <td>88</td>\n",
       "      <td>1</td>\n",
       "    </tr>\n",
       "    <tr>\n",
       "      <th>4</th>\n",
       "      <td>Toni Kroos</td>\n",
       "      <td>29</td>\n",
       "      <td>1</td>\n",
       "      <td>88</td>\n",
       "      <td>1</td>\n",
       "    </tr>\n",
       "  </tbody>\n",
       "</table>\n",
       "</div>"
      ],
      "text/plain": [
       "               long_name  age  a  overall  y\n",
       "0  Marc-André ter Stegen   27  1       90  1\n",
       "1             Harry Kane   25  0       89  1\n",
       "2        Raheem Sterling   24  0       88  1\n",
       "3           Manuel Neuer   33  1       88  1\n",
       "4             Toni Kroos   29  1       88  1"
      ]
     },
     "execution_count": 50,
     "metadata": {},
     "output_type": "execute_result"
    }
   ],
   "source": [
    "# Process data for later use\n",
    "\n",
    "# Keep relevant columns\n",
    "o_data = all_data[['long_name','age','nationality','overall','wage_eur']].copy(deep = True)\n",
    "\n",
    "# Change column names of nationality and wage_eur to a and y \n",
    "o_data.rename(columns = {'nationality':'a', 'wage_eur':'y'}, inplace = True)\n",
    "\n",
    "# Restrict to Argentina and English nationality\n",
    "o_data = o_data.loc[(o_data['a'].isin(['England', 'Germany']))]\n",
    "print('Number of players:', o_data.shape[0])\n",
    "\n",
    "# Only keep relevant feagires and outcomes\n",
    "data = o_data[['long_name','age','a','overall','y']].copy(deep = True)\n",
    "\n",
    "# Binarize nationality\n",
    "data = data.replace('England',0)\n",
    "data = data.replace('Germany',1)\n",
    "\n",
    "# Reset the index\n",
    "data = data.reset_index(drop=True)\n",
    "\n",
    "# Binarize outcome using median outcome\n",
    "data.loc[data['y'] < np.median(data['y']), 'y'] = 0\n",
    "data.loc[data['y'] >= np.median(data['y']), 'y'] = 1\n",
    "data.head()"
   ]
  },
  {
   "cell_type": "code",
   "execution_count": 51,
   "metadata": {},
   "outputs": [
    {
     "name": "stdout",
     "output_type": "stream",
     "text": [
      "min rate =  0.19944502254595908\n"
     ]
    }
   ],
   "source": [
    "# Create new column to stratify data and calculate base rates\n",
    "group = []\n",
    "for i in range(data.shape[0]):\n",
    "    # w\n",
    "    if np.sum(data[['a','y']].iloc[i] == [0,0]) == 2:\n",
    "        group.append(1)\n",
    "    # v\n",
    "    if np.sum(data[['a','y']].iloc[i] == [1,0]) == 2:\n",
    "        group.append(2)\n",
    "    # s\n",
    "    if np.sum(data[['a','y']].iloc[i] == [0,1]) == 2:\n",
    "        group.append(3)\n",
    "    # r\n",
    "    if np.sum(data[['a','y']].iloc[i] == [1,1]) == 2:\n",
    "        group.append(4)\n",
    "\n",
    "# Add column to the data\n",
    "data['group'] = group\n",
    "\n",
    "# Calculate base rates\n",
    "total = data.shape[0]\n",
    "r = np.sum(data['group'] == 4)/total\n",
    "s = np.sum(data['group'] == 3)/total\n",
    "v = np.sum(data['group'] == 2)/total\n",
    "w= np.sum(data['group'] == 1)/total\n",
    "print('min rate = ', min(r,s,w,v))"
   ]
  },
  {
   "cell_type": "code",
   "execution_count": 52,
   "metadata": {},
   "outputs": [],
   "source": [
    "# Classes to use BERT\n",
    "\n",
    "# Using Bert for text classification\n",
    "tokenizer = BertTokenizer.from_pretrained('bert-base-cased')\n",
    "\n",
    "# Dataset class for BERT\n",
    "class Dataset(torch.utils.data.Dataset):\n",
    "\n",
    "    def __init__(self, df):\n",
    "\n",
    "        self.labels = [label for label in df['a']]\n",
    "        self.texts = [tokenizer(text, \n",
    "                               padding='max_length', max_length = 5, truncation=True,\n",
    "                                return_tensors=\"pt\") for text in df['long_name']]\n",
    "        self.remain_data = [df[['age','overall','y','group']].iloc[idx] for idx in range(df.shape[0])]\n",
    "\n",
    "    def classes(self):\n",
    "        return self.labels\n",
    "\n",
    "    def __len__(self):\n",
    "        return len(self.labels)\n",
    "\n",
    "    def __getitem__(self, idx):\n",
    "        \n",
    "        batch_texts = self.texts[idx]\n",
    "        batch_y = torch.tensor(self.labels[idx])\n",
    "        batch_rest = torch.tensor(self.remain_data[idx])\n",
    "\n",
    "        return batch_texts, batch_y, batch_rest\n",
    "\n",
    "# Class for classifier\n",
    "class BertClassifier(nn.Module):\n",
    "\n",
    "    def __init__(self, dropout=0.5):\n",
    "\n",
    "        super(BertClassifier, self).__init__()\n",
    "\n",
    "        self.bert = BertModel.from_pretrained('bert-base-cased')\n",
    "        self.dropout = nn.Dropout(dropout)\n",
    "        self.linear = nn.Linear(768, 1)\n",
    "        self.sigmoid = nn.Sigmoid()\n",
    "\n",
    "    def forward(self, input_id, mask):\n",
    "\n",
    "        _, pooled_output = self.bert(input_ids= input_id, attention_mask=mask,return_dict=False)\n",
    "        dropout_output = self.dropout(pooled_output)\n",
    "        linear_output = self.linear(dropout_output)\n",
    "        final_layer = self.sigmoid(linear_output)\n",
    "\n",
    "        return final_layer"
   ]
  },
  {
   "cell_type": "code",
   "execution_count": 53,
   "metadata": {},
   "outputs": [],
   "source": [
    "# Function to train model\n",
    "batch_sz = 2\n",
    "\n",
    "def train(model, train_data, val_data, learning_rate, epochs):\n",
    "\n",
    "    train, val = Dataset(train_data), Dataset(val_data)\n",
    "\n",
    "    train_dataloader = torch.utils.data.DataLoader(train, batch_size=batch_sz, shuffle=True)\n",
    "    val_dataloader = torch.utils.data.DataLoader(val, batch_size=batch_sz)\n",
    "\n",
    "    # use_cuda = torch.cuda.is_available()\n",
    "    # device = torch.device(\"cuda\" if use_cuda else \"cpu\")\n",
    "    device = torch.device(\"cuda:0\" if torch.cuda.is_available() else \"mps\")\n",
    "    model.to(device)\n",
    "\n",
    "    criterion = nn.BCELoss()\n",
    "    optimizer = Adam(model.parameters(), lr= learning_rate)\n",
    "\n",
    "\n",
    "    for epoch_num in range(epochs):\n",
    "\n",
    "        model.train()\n",
    "        total_loss_train = 0\n",
    "        total_tp_train = 0\n",
    "\n",
    "        for train_input, train_label, _ in tqdm(train_dataloader):\n",
    "\n",
    "            train_label = train_label.to(device).float()\n",
    "            mask = train_input['attention_mask'].to(device)\n",
    "            input_id = train_input['input_ids'].squeeze(1).to(device)\n",
    "\n",
    "            output = model(input_id, mask).reshape(1,-1)[0] \n",
    "            batch_loss = criterion(output, train_label)\n",
    "            batch_tp = torch.sum((output >= 0.5) == train_label)\n",
    "            \n",
    "            total_tp_train += batch_tp.item()\n",
    "            total_loss_train += batch_loss.item()\n",
    "\n",
    "            model.zero_grad()\n",
    "            batch_loss.backward()\n",
    "            optimizer.step()\n",
    "                \n",
    "        total_loss_val = 0\n",
    "        total_tp_val = 0\n",
    "\n",
    "        with torch.no_grad():\n",
    "\n",
    "            model.eval()\n",
    "\n",
    "            for val_input, val_label, _ in val_dataloader:\n",
    "\n",
    "                val_label = val_label.to(device).float()\n",
    "                mask = val_input['attention_mask'].to(device)\n",
    "                input_id = val_input['input_ids'].squeeze(1).to(device)\n",
    "\n",
    "                output = model(input_id, mask).reshape(1,-1)[0]\n",
    "                batch_loss = criterion(output, val_label)\n",
    "                batch_tp = torch.sum((output >= 0.5) == val_label)\n",
    "                    \n",
    "                total_tp_val += batch_tp.item()    \n",
    "                total_loss_val += batch_loss.item()\n",
    "                    \n",
    "            \n",
    "        print(\n",
    "            f'Epochs: {epoch_num + 1} | Train Loss: {total_loss_train / (len(train_data)/batch_sz): .3f} \\\n",
    "            | Train Accuracy: {total_tp_train / len(train_data): .3f} \\\n",
    "            | Val Loss: {total_loss_val / (len(val_data)/batch_sz): .3f} \\\n",
    "            | Val Accuracy: {total_tp_val / len(val_data): .3f}')"
   ]
  },
  {
   "cell_type": "code",
   "execution_count": 54,
   "metadata": {},
   "outputs": [
    {
     "name": "stderr",
     "output_type": "stream",
     "text": [
      "Some weights of the model checkpoint at bert-base-cased were not used when initializing BertModel: ['cls.seq_relationship.bias', 'cls.predictions.transform.dense.weight', 'cls.predictions.transform.dense.bias', 'cls.predictions.bias', 'cls.predictions.transform.LayerNorm.weight', 'cls.seq_relationship.weight', 'cls.predictions.decoder.weight', 'cls.predictions.transform.LayerNorm.bias']\n",
      "- This IS expected if you are initializing BertModel from the checkpoint of a model trained on another task or with another architecture (e.g. initializing a BertForSequenceClassification model from a BertForPreTraining model).\n",
      "- This IS NOT expected if you are initializing BertModel from the checkpoint of a model that you expect to be exactly identical (initializing a BertForSequenceClassification model from a BertForSequenceClassification model).\n"
     ]
    }
   ],
   "source": [
    "# Experiment Parameters\n",
    "EPOCHS = 10\n",
    "model = BertClassifier()\n",
    "LR = 1e-6 "
   ]
  },
  {
   "cell_type": "code",
   "execution_count": 64,
   "metadata": {},
   "outputs": [],
   "source": [
    "# Splitting data into necessary datasets\n",
    "d_xa, d_remain = train_test_split(data, train_size = 0.7, stratify=data['group'])"
   ]
  },
  {
   "cell_type": "code",
   "execution_count": 65,
   "metadata": {},
   "outputs": [
    {
     "name": "stderr",
     "output_type": "stream",
     "text": [
      "100%|██████████| 807/807 [00:40<00:00, 20.16it/s]\n"
     ]
    },
    {
     "name": "stdout",
     "output_type": "stream",
     "text": [
      "Epochs: 1 | Train Loss:  0.197             | Train Accuracy:  0.936             | Val Loss:  0.111             | Val Accuracy:  0.968\n"
     ]
    },
    {
     "name": "stderr",
     "output_type": "stream",
     "text": [
      "100%|██████████| 807/807 [00:40<00:00, 19.93it/s]\n"
     ]
    },
    {
     "name": "stdout",
     "output_type": "stream",
     "text": [
      "Epochs: 2 | Train Loss:  0.143             | Train Accuracy:  0.954             | Val Loss:  0.107             | Val Accuracy:  0.963\n"
     ]
    },
    {
     "name": "stderr",
     "output_type": "stream",
     "text": [
      "100%|██████████| 807/807 [00:39<00:00, 20.61it/s]\n"
     ]
    },
    {
     "name": "stdout",
     "output_type": "stream",
     "text": [
      "Epochs: 3 | Train Loss:  0.122             | Train Accuracy:  0.962             | Val Loss:  0.121             | Val Accuracy:  0.970\n"
     ]
    },
    {
     "name": "stderr",
     "output_type": "stream",
     "text": [
      "100%|██████████| 807/807 [00:40<00:00, 20.05it/s]\n"
     ]
    },
    {
     "name": "stdout",
     "output_type": "stream",
     "text": [
      "Epochs: 4 | Train Loss:  0.103             | Train Accuracy:  0.967             | Val Loss:  0.111             | Val Accuracy:  0.973\n"
     ]
    },
    {
     "name": "stderr",
     "output_type": "stream",
     "text": [
      "100%|██████████| 807/807 [00:40<00:00, 19.87it/s]\n"
     ]
    },
    {
     "name": "stdout",
     "output_type": "stream",
     "text": [
      "Epochs: 5 | Train Loss:  0.098             | Train Accuracy:  0.970             | Val Loss:  0.116             | Val Accuracy:  0.968\n"
     ]
    },
    {
     "name": "stderr",
     "output_type": "stream",
     "text": [
      "100%|██████████| 807/807 [00:40<00:00, 19.95it/s]\n"
     ]
    },
    {
     "name": "stdout",
     "output_type": "stream",
     "text": [
      "Epochs: 6 | Train Loss:  0.076             | Train Accuracy:  0.978             | Val Loss:  0.122             | Val Accuracy:  0.970\n"
     ]
    },
    {
     "name": "stderr",
     "output_type": "stream",
     "text": [
      "100%|██████████| 807/807 [00:40<00:00, 20.04it/s]\n"
     ]
    },
    {
     "name": "stdout",
     "output_type": "stream",
     "text": [
      "Epochs: 7 | Train Loss:  0.055             | Train Accuracy:  0.986             | Val Loss:  0.129             | Val Accuracy:  0.970\n"
     ]
    },
    {
     "name": "stderr",
     "output_type": "stream",
     "text": [
      "100%|██████████| 807/807 [00:40<00:00, 20.04it/s]\n"
     ]
    },
    {
     "name": "stdout",
     "output_type": "stream",
     "text": [
      "Epochs: 8 | Train Loss:  0.066             | Train Accuracy:  0.985             | Val Loss:  0.125             | Val Accuracy:  0.968\n"
     ]
    },
    {
     "name": "stderr",
     "output_type": "stream",
     "text": [
      "100%|██████████| 807/807 [00:40<00:00, 19.97it/s]\n"
     ]
    },
    {
     "name": "stdout",
     "output_type": "stream",
     "text": [
      "Epochs: 9 | Train Loss:  0.049             | Train Accuracy:  0.987             | Val Loss:  0.128             | Val Accuracy:  0.968\n"
     ]
    },
    {
     "name": "stderr",
     "output_type": "stream",
     "text": [
      "100%|██████████| 807/807 [00:39<00:00, 20.39it/s]\n"
     ]
    },
    {
     "name": "stdout",
     "output_type": "stream",
     "text": [
      "Epochs: 10 | Train Loss:  0.041             | Train Accuracy:  0.992             | Val Loss:  0.141             | Val Accuracy:  0.968\n"
     ]
    }
   ],
   "source": [
    "# Split d_xa into d_xa_train and d_xa_val\n",
    "d_xa_train, d_xa_val = train_test_split(d_xa, train_size = 0.8, stratify=d_xa['group'])\n",
    "\n",
    "# Train model\n",
    "train(model, d_xa_train, d_xa_val, LR, EPOCHS)"
   ]
  },
  {
   "cell_type": "markdown",
   "metadata": {},
   "source": [
    "Enforcing fairness"
   ]
  },
  {
   "cell_type": "code",
   "execution_count": 66,
   "metadata": {},
   "outputs": [
    {
     "name": "stderr",
     "output_type": "stream",
     "text": [
      "100%|██████████| 100/100 [00:49<00:00,  2.04it/s]\n"
     ]
    }
   ],
   "source": [
    "# Will repeatedly split data into\n",
    "# d_xy_train\n",
    "# d_xy_test\n",
    "# d_xy_tune\n",
    "\n",
    "bias_t_o = []\n",
    "bias_f_o = []\n",
    "bias_t_n = []\n",
    "bias_f_n = []\n",
    "u_bound_t_o = []\n",
    "l_bound_t_o = []\n",
    "u_bound_f_o = []\n",
    "l_bound_f_o = []\n",
    "u_bound_t_n = []\n",
    "l_bound_t_n = []\n",
    "u_bound_f_n = []\n",
    "l_bound_f_n = []\n",
    "\n",
    "new_bias_h_t = []\n",
    "new_bias_h_f = []\n",
    "\n",
    "for i in tqdm(range(100)):\n",
    "    d_xy_train, d_xy_remain = train_test_split(d_remain, train_size = 0.7, stratify=d_remain['group'])\n",
    "    d_xy_test, d_xay = train_test_split(d_xy_remain, train_size = 0.95, stratify=d_xy_remain['group'])\n",
    "\n",
    "    # Create Classifier\n",
    "    clf = RandomForestClassifier(n_estimators=50)\n",
    "\n",
    "    # Split data into features and labels\n",
    "    x_train = d_xy_train[['age','overall']]\n",
    "    y_train = d_xy_train['y']\n",
    "    x_test = d_xy_test[['age','overall']]\n",
    "    y_test = d_xy_test['y']\n",
    "\n",
    "    # Fit classifier\n",
    "    clf.fit(x_train.to_numpy(),y_train)\n",
    "\n",
    "    # Model Accuracy:\n",
    "    # print(\"Accuracy:\", metrics.accuracy_score(y_test, clf.predict(x_test.to_numpy())))\n",
    "\n",
    "    # Evaluate probabilities/y_hat on test set\n",
    "    y_prob = clf.predict_proba(x_test.to_numpy())\n",
    "    \n",
    "    # Add y_prob/y_hat to data\n",
    "    d_xy_test['y_prob'] = y_prob[:,1]\n",
    "    d_xy_test['y_hat'] = (y_prob[:,1] >= 0.5)\n",
    "    d_xy_test['y_hat'] = y_prob[:,1]\n",
    "\n",
    "    # Calculate bias metrics with respect to a\n",
    "    alpha, beta, tau, phi = calculate_bias_metrics(d_xy_test)\n",
    "    bias_t_o.append(alpha - beta)\n",
    "    bias_f_o.append(tau - phi)\n",
    "\n",
    "    # Calculating a_hat using the trained BERT model\n",
    "    xy_test = Dataset(d_xy_test)\n",
    "    xy_test_dataloader = torch.utils.data.DataLoader(xy_test, batch_size=len(xy_test))\n",
    "    device = torch.device(\"cpu\")\n",
    "    model.to(device)\n",
    "    model = model.eval()\n",
    "    with torch.no_grad():\n",
    "        for xy_test_input, xy_test_label, xy_test_remain in xy_test_dataloader:\n",
    "            xy_test_label = xy_test_label.to(device).float()\n",
    "            mask = xy_test_input['attention_mask'].to(device)\n",
    "            input_id = xy_test_input['input_ids'].squeeze(1).to(device)\n",
    "            output = model(input_id, mask).reshape(1,-1)[0]\n",
    "    \n",
    "    # Replace a column with a_hat to data\n",
    "    a_true = d_xy_test['a']\n",
    "    d_xy_test['a'] = (output >= 0.5)\n",
    "    a_error = np.sum(d_xy_test['a'] != a_true)/d_xy_test.shape[0]\n",
    "    #print(a_error)\n",
    "\n",
    "    # Computing upper and lower bounds\n",
    "    alpha_hat, beta_hat, tau_hat, phi_hat = calculate_bias_metrics(d_xy_test)\n",
    "    # print('before = ', max(alpha_hat,beta_hat))\n",
    "    ub_t_o, lb_t_o = calc_gen_bounds(alpha_hat,beta_hat,a_error,r,s)\n",
    "    ub_f_o, lb_f_o = calc_gen_bounds(tau_hat,phi_hat,a_error,v,w)\n",
    "    u_bound_t_o.append(ub_t_o)\n",
    "    l_bound_t_o.append(lb_t_o)\n",
    "    u_bound_f_o.append(ub_f_o)\n",
    "    l_bound_f_o.append(lb_f_o)\n",
    "\n",
    "    '''\n",
    "    # Using d_xay to learn a fair f wrt to a_hat\n",
    "\n",
    "    # Evaluate probabilities/y_hat on d_xay set\n",
    "    y_prob = clf.predict_proba(d_xay[['age','overall']].to_numpy())\n",
    "    \n",
    "    # Add y_prob/y_hat to data\n",
    "    d_xay['y_prob'] = y_prob[:,1]\n",
    "    d_xay['y_hat'] = (y_prob[:,1] >= 0.5)\n",
    "\n",
    "    # Calculating a_hat using the trained BERT model\n",
    "    xay = Dataset(d_xay)\n",
    "    xay_dataloader = torch.utils.data.DataLoader(xay, batch_size=len(xay))\n",
    "    device = torch.device(\"cpu\")\n",
    "    model.to(device)\n",
    "    model = model.eval()\n",
    "    with torch.no_grad():\n",
    "        for xay_input, xay_label, xay_remain in xay_dataloader:\n",
    "            xay_label = xay_label.to(device).float()\n",
    "            mask = xay_input['attention_mask'].to(device)\n",
    "            input_id = xay_input['input_ids'].squeeze(1).to(device)\n",
    "            output = model(input_id, mask).reshape(1,-1)[0]\n",
    "\n",
    "    # Replace a column with a_hat to data\n",
    "    d_xay['a'] = np.array((output >= 0.5)).astype('float')\n",
    "    # a_error = np.sum(d_xy_test['a'] != d_xy_test['nationality'])/d_xy_test.shape[0]\n",
    "    '''\n",
    "\n",
    "    # Learn fair f\n",
    "    _, fair_model = eo_postprocess(d_xy_test)\n",
    "\n",
    "    # Calculate new bias_estimates\n",
    "    df_ah_fair = d_xy_test.copy(deep = True)\n",
    "    df_ah_fair.y_hat = fair_model.predict(d_xy_test.y_prob.values,d_xy_test.a.values)\n",
    "\n",
    "    # Calculate est bias_tpr and bias_fpr\n",
    "    alpha_hat_f, beta_hat_f, tau_hat_f, phi_hat_f = calculate_bias_metrics(df_ah_fair)\n",
    "    new_bias_h_t.append(alpha_hat_f - beta_hat_f)\n",
    "    new_bias_h_f.append(tau_hat_f - phi_hat_f)\n",
    "    # print('after = ', max(alpha_hat_f,beta_hat_f))\n",
    "\n",
    "    # Computing the new upper bound and lower bounds under the assumption\n",
    "    ub_t_n, lb_t_n = calc_gen_bounds(alpha_hat_f,beta_hat_f,a_error,r,s)\n",
    "    ub_f_n, lb_f_n = calc_gen_bounds(tau_hat_f,phi_hat_f,a_error,v,w)\n",
    "    l_bound_t_n.append(lb_t_n)\n",
    "    l_bound_f_n.append(lb_f_n)\n",
    "    u_bound_t_n.append(ub_t_n)\n",
    "    u_bound_f_n.append(ub_f_n)\n",
    "\n",
    "    # Calculate new true bias wrt to a with fair f\n",
    "    d_xy_test['a'] = a_true\n",
    "    yh_fair = fair_model.predict(d_xy_test.y_prob.values,d_xy_test.a.values)\n",
    "    df_fair = d_xy_test.copy(deep=True)\n",
    "    df_fair.y_hat = yh_fair\n",
    "    alpha_n, beta_n, tau_n, phi_n = calculate_bias_metrics(df_fair)\n",
    "\n",
    "    # New bias\n",
    "    bias_t_n.append(alpha_n - beta_n)\n",
    "    bias_f_n.append(tau_n - phi_n)"
   ]
  },
  {
   "cell_type": "code",
   "execution_count": 67,
   "metadata": {},
   "outputs": [],
   "source": [
    "indices = ((np.abs(new_bias_h_t) <= 0.05).astype('float') + (np.abs(new_bias_h_f) <= 0.05).astype('float')) == 2"
   ]
  },
  {
   "cell_type": "code",
   "execution_count": 68,
   "metadata": {},
   "outputs": [],
   "source": [
    "# Computing max distributions\n",
    "max_t_o = np.maximum(np.abs(u_bound_t_o)[indices],np.abs(l_bound_t_o)[indices])\n",
    "max_t_n = np.maximum(np.abs(u_bound_t_n)[indices],np.abs(l_bound_t_n)[indices])\n",
    "max_f_o = np.maximum(np.abs(u_bound_f_o)[indices],np.abs(l_bound_f_o)[indices])\n",
    "max_f_n = np.maximum(np.abs(u_bound_f_n)[indices],np.abs(l_bound_f_n)[indices])"
   ]
  },
  {
   "cell_type": "code",
   "execution_count": 73,
   "metadata": {},
   "outputs": [
    {
     "data": {
      "image/png": "[encoded data removed]",
      "text/plain": [
       "<Figure size 432x288 with 1 Axes>"
      ]
     },
     "metadata": {
      "needs_background": "light"
     },
     "output_type": "display_data"
    }
   ],
   "source": [
    "# Kde plots: Upper bound\n",
    "sns.kdeplot(max_t_o,shade=True, cut = 0, label = '$TPR_{m}$',linestyle='--', color = 'blue')\n",
    "sns.kdeplot(np.array(np.abs(bias_t_o)[indices]), shade = True, cut=0, label = r'$|bias_{TPR}(f)|$', color = 'black', linestyle='--')\n",
    "sns.kdeplot(max_t_n,shade=True, cut = 0,label = r'$\\widetilde{TPR}_{m}$', color = 'red')\n",
    "sns.kdeplot(np.array(np.abs(bias_t_n)[indices]),shade=True, cut = 0, label = r'$|bias_{TPR}(\\tilde{f})|$',color='black')\n",
    "plt.legend()\n",
    "plt.savefig('Figures/Exp3/real_data_tpr_control_germany_england.png',bbox_inches=\"tight\")"
   ]
  },
  {
   "cell_type": "code",
   "execution_count": 74,
   "metadata": {},
   "outputs": [
    {
     "data": {
      "image/png": "[encoded data removed]",
      "text/plain": [
       "<Figure size 432x288 with 1 Axes>"
      ]
     },
     "metadata": {
      "needs_background": "light"
     },
     "output_type": "display_data"
    }
   ],
   "source": [
    "# Kde plots: Upper bound\n",
    "sns.kdeplot(max_f_o,shade=True, cut = 0, label = '$FPR_{m}$',linestyle='--', color = 'blue')\n",
    "sns.kdeplot(np.array(np.abs(bias_f_o))[indices], shade = True, cut=0, label = r'$|bias_{FPR}(f)|$', color = 'black', linestyle='--')\n",
    "sns.kdeplot(max_f_n,shade=True, cut = 0,label = r'$\\widetilde{FPR}_{m}$', color = 'red')\n",
    "sns.kdeplot(np.array(np.abs(bias_f_n)[indices]),shade=True, cut = 0, label = r'$|bias_{FPR}(\\tilde{f})|$',color='black')\n",
    "plt.legend()\n",
    "plt.savefig('Figures/Exp3/real_data_fpr_control_germany_england.png',bbox_inches=\"tight\")"
   ]
  },
  {
   "cell_type": "markdown",
   "metadata": {},
   "source": [
    "Improving bias estimation"
   ]
  },
  {
   "cell_type": "code",
   "execution_count": 74,
   "metadata": {},
   "outputs": [],
   "source": [
    "# Calculating final validation accuracy and ROC curve\n",
    "val = Dataset(d_xa_val)\n",
    "val_dataloader = torch.utils.data.DataLoader(val, batch_size=len(d_xa_val))\n",
    "device = torch.device(\"cpu\")\n",
    "model = model.eval()\n",
    "with torch.no_grad():\n",
    "    for val_input, val_label, val_remain in val_dataloader:\n",
    "        val_label = val_label.to(device).float()\n",
    "        mask = val_input['attention_mask'].to(device)\n",
    "        input_id = val_input['input_ids'].squeeze(1).to(device)\n",
    "        output = model(input_id, mask).reshape(1,-1)[0]"
   ]
  },
  {
   "cell_type": "code",
   "execution_count": 76,
   "metadata": {},
   "outputs": [
    {
     "name": "stdout",
     "output_type": "stream",
     "text": [
      "Optimal threshold =  0.03607214428857715\n"
     ]
    },
    {
     "data": {
      "text/plain": [
       "0.029315960912052116"
      ]
     },
     "execution_count": 76,
     "metadata": {},
     "output_type": "execute_result"
    },
    {
     "data": {
      "image/png": "[encoded data removed]",
      "text/plain": [
       "<Figure size 432x288 with 1 Axes>"
      ]
     },
     "metadata": {
      "needs_background": "light"
     },
     "output_type": "display_data"
    }
   ],
   "source": [
    "# Optimal Threshold for accuracy of a_hat\n",
    "total_error = []\n",
    "thresholds = np.linspace(0,1,500)\n",
    "for t in thresholds:\n",
    "    a_hat = output >= t\n",
    "    a_hat = a_hat.numpy().astype('int')\n",
    "\n",
    "    # Error of h(x) on this data\n",
    "    incorrect = np.sum((d_xa_val['nationality'] != a_hat))\n",
    "    error = (incorrect)/(d_xa_val.shape[0])\n",
    "    total_error.append(error)\n",
    "\n",
    "total_error = np.array(total_error)\n",
    "opt_t = thresholds[np.argmin(total_error)]\n",
    "print('Optimal threshold = ', opt_t)\n",
    "# plt.plot(thresholds,total_error)\n",
    "# plt.xlabel('Thresholds')\n",
    "# plt.ylabel('Error')\n",
    "plt.plot(thresholds,total_error)\n",
    "np.min(total_error)"
   ]
  },
  {
   "cell_type": "markdown",
   "metadata": {},
   "source": [
    "Improving bias estimation"
   ]
  },
  {
   "cell_type": "code",
   "execution_count": 77,
   "metadata": {},
   "outputs": [],
   "source": [
    "def generate_estimates(t,output,d_xy_test):\n",
    "    # Add a_hat column to data using opt_t\n",
    "    a_hat = output >= t\n",
    "    d_xy_test['a_hat'] = a_hat.numpy().astype('int')\n",
    "\n",
    "    # Error of h(x) on this data\n",
    "    incorrect = np.sum((d_xy_test['nationality'] != d_xy_test['a_hat']))\n",
    "    error = (incorrect)/(d_xy_test.shape[0])\n",
    "    #print('a_error = ', error)\n",
    "\n",
    "    y1 = d_xy_test[d_xy_test['wage_eur'] == 1]\n",
    "    incorrect = np.sum(y1['a_hat'] != y1['nationality'])/y1.shape[0]\n",
    "    U1 = incorrect*(y1.shape[0]/d_xy_test.shape[0])\n",
    "    y0 = d_xy_test[d_xy_test['wage_eur'] == 0]\n",
    "    incorrect = np.sum(y0['a_hat'] != y0['nationality'])/y0.shape[0]\n",
    "    U2 = incorrect*(y0.shape[0]/d_xy_test.shape[0])\n",
    "\n",
    "    # Evaluate the equal oppurtunity violation using a_hat using threshold of 0.5 for f\n",
    "    a1_y1 = d_xy_test[(d_xy_test['a_hat'] == 1) & (d_xy_test['wage_eur'] == 1)]\n",
    "    a0_y1 = d_xy_test[(d_xy_test['a_hat'] == 0) & (d_xy_test['wage_eur'] == 1)]\n",
    "    a1_y0 = d_xy_test[(d_xy_test['a_hat'] == 1) & (d_xy_test['wage_eur'] == 0)]\n",
    "    a0_y0 = d_xy_test[(d_xy_test['a_hat'] == 0) & (d_xy_test['wage_eur'] == 0)]\n",
    "    alpha_hat = np.sum((a1_y1['y_prob'] >= 0.5) == 1)/a1_y1.shape[0]\n",
    "    beta_hat = np.sum((a0_y1['y_prob'] >= 0.5) == 1)/a0_y1.shape[0]\n",
    "    tau_hat = np.sum((a1_y0['y_prob'] >= 0.5) == 1)/a1_y0.shape[0]\n",
    "    phi_hat = np.sum((a0_y0['y_prob'] >= 0.5) == 1)/a0_y0.shape[0]\n",
    "    bias_tpr_hat = np.abs(alpha_hat - beta_hat)\n",
    "    bias_fpr_hat = np.abs(tau_hat - phi_hat)\n",
    "    # k1 = 1 + (error/(2*s**2*r**2))*((2*r**4*s + 2*s**4*r - error*r**4 - error*s**4 + error*r**2*s**2)/(2*r*s - error*s - error*r))\n",
    "    # print('Lower bound =', bias_tpr_hat)\n",
    "    # print('Upper bound = ', bias_tpr_hat*k1)\n",
    "    # print('bias_tpr_hat =', bias_tpr_hat)\n",
    "\n",
    "    return bias_tpr_hat, bias_fpr_hat, error, U1, U2"
   ]
  },
  {
   "cell_type": "code",
   "execution_count": 111,
   "metadata": {},
   "outputs": [
    {
     "name": "stdout",
     "output_type": "stream",
     "text": [
      "Accuracy: 0.7843137254901961\n"
     ]
    },
    {
     "name": "stderr",
     "output_type": "stream",
     "text": [
      "/var/folders/ww/dc85f0d57734qs_yc7sf14t40000gn/T/ipykernel_43605/3349293721.py:139: RuntimeWarning: invalid value encountered in true_divide\n",
      "  gamma_1 = np.abs(1-g1-g2)/(((s/r)*(1-g1)+g2)*((r/s)*(1-g2)+g1))\n",
      "/var/folders/ww/dc85f0d57734qs_yc7sf14t40000gn/T/ipykernel_43605/3349293721.py:142: RuntimeWarning: invalid value encountered in true_divide\n",
      "  gamma_2 = np.abs(1-d1-d2)/(((v/w)*(1-d1)+d2)*((w/v)*(1-d2)+d1))\n"
     ]
    },
    {
     "name": "stdout",
     "output_type": "stream",
     "text": [
      "Accuracy: 0.8333333333333334\n",
      "Accuracy: 0.8137254901960784\n",
      "Accuracy: 0.8431372549019608\n",
      "Accuracy: 0.7647058823529411\n",
      "Accuracy: 0.8333333333333334\n",
      "Accuracy: 0.8235294117647058\n",
      "Accuracy: 0.8823529411764706\n",
      "Accuracy: 0.7941176470588235\n",
      "Accuracy: 0.8627450980392157\n",
      "Accuracy: 0.8235294117647058\n",
      "Accuracy: 0.7843137254901961\n",
      "Accuracy: 0.7941176470588235\n",
      "Accuracy: 0.8235294117647058\n",
      "Accuracy: 0.8333333333333334\n",
      "Accuracy: 0.8725490196078431\n",
      "Accuracy: 0.7941176470588235\n",
      "Accuracy: 0.8431372549019608\n",
      "Accuracy: 0.8137254901960784\n",
      "Accuracy: 0.8529411764705882\n",
      "Accuracy: 0.803921568627451\n",
      "Accuracy: 0.8431372549019608\n",
      "Accuracy: 0.8235294117647058\n",
      "Accuracy: 0.8627450980392157\n",
      "Accuracy: 0.803921568627451\n",
      "Accuracy: 0.8431372549019608\n",
      "Accuracy: 0.8235294117647058\n",
      "Accuracy: 0.8431372549019608\n",
      "Accuracy: 0.8235294117647058\n",
      "Accuracy: 0.8529411764705882\n",
      "Accuracy: 0.8921568627450981\n",
      "Accuracy: 0.8627450980392157\n",
      "Accuracy: 0.8725490196078431\n",
      "Accuracy: 0.8137254901960784\n",
      "Accuracy: 0.7843137254901961\n",
      "Accuracy: 0.7647058823529411\n",
      "Accuracy: 0.8333333333333334\n",
      "Accuracy: 0.8235294117647058\n",
      "Accuracy: 0.7941176470588235\n",
      "Accuracy: 0.8137254901960784\n",
      "Accuracy: 0.7843137254901961\n",
      "Accuracy: 0.8235294117647058\n",
      "Accuracy: 0.8627450980392157\n",
      "Accuracy: 0.8137254901960784\n",
      "Accuracy: 0.8431372549019608\n",
      "Accuracy: 0.8235294117647058\n",
      "Accuracy: 0.8333333333333334\n",
      "Accuracy: 0.7647058823529411\n",
      "Accuracy: 0.8431372549019608\n",
      "Accuracy: 0.8235294117647058\n"
     ]
    }
   ],
   "source": [
    "# Will repeatedly split data into\n",
    "# d_xy_train\n",
    "# d_xy_test\n",
    "# d_xy_tune\n",
    "# Split data \n",
    "true_bias_tpr = []\n",
    "true_bias_fpr = []\n",
    "old_bias_tpr = []\n",
    "old_bias_fpr = []\n",
    "new_bias_tpr = []\n",
    "new_bias_fpr = []\n",
    "old_error = []\n",
    "U1_old = []\n",
    "U2_old = []\n",
    "new_error_tpr = []\n",
    "new_error_fpr = []\n",
    "new_bias_tpr = []\n",
    "new_bias_fpr = []\n",
    "U1_new_tpr = []\n",
    "U2_new_tpr = []\n",
    "U1_new_fpr = []\n",
    "U2_new_fpr = []\n",
    "thresholds = np.linspace(0,1,101)\n",
    "\n",
    "for i in range(50):\n",
    "    d_xy_train, d_xy_remain = train_test_split(d_remain, train_size = 0.8, stratify=d_remain['group'])\n",
    "    d_xy_test, d_xay = train_test_split(d_xy_remain, train_size = 0.5, stratify=d_xy_remain['group'])\n",
    "\n",
    "    # Create Classifier\n",
    "    clf = RandomForestClassifier(n_estimators=50)\n",
    "\n",
    "    # Split data into features and labels\n",
    "    x_train = d_xy_train[['age','overall']]\n",
    "    y_train = d_xy_train['wage_eur']\n",
    "    x_test = d_xy_test[['age','overall']]\n",
    "    y_test = d_xy_test['wage_eur']\n",
    "\n",
    "    # Fit classifier\n",
    "    clf.fit(x_train.to_numpy(),y_train)\n",
    "\n",
    "    # Model Accuracy:\n",
    "    print(\"Accuracy:\",metrics.accuracy_score(y_test, clf.predict(x_test.to_numpy())))\n",
    "\n",
    "    # Evaluate probabilities on test set\n",
    "    y_prob = clf.predict_proba(x_test.to_numpy())\n",
    "    \n",
    "    # Add y_prob to data\n",
    "    d_xy_test['y_prob'] = y_prob[:,1]\n",
    "\n",
    "    # Calculating hat_a\n",
    "    xy_test = Dataset(d_xy_test)\n",
    "    xy_test_dataloader = torch.utils.data.DataLoader(xy_test, batch_size=len(xy_test))\n",
    "    device = torch.device(\"cpu\")\n",
    "    model = model.eval()\n",
    "    with torch.no_grad():\n",
    "        for xy_test_input, xy_test_label, xy_test_remain in xy_test_dataloader:\n",
    "            xy_test_label = xy_test_label.to(device).float()\n",
    "            mask = xy_test_input['attention_mask'].to(device)\n",
    "            input_id = xy_test_input['input_ids'].squeeze(1).to(device)\n",
    "            output = model(input_id, mask).reshape(1,-1)[0]\n",
    "    \n",
    "    # Evaluate true bias\n",
    "    a1_y1 = d_xy_test[(d_xy_test['nationality'] == 1) & (d_xy_test['wage_eur'] == 1)]\n",
    "    a0_y1 = d_xy_test[(d_xy_test['nationality'] == 0) & (d_xy_test['wage_eur'] == 1)]\n",
    "    a1_y0 = d_xy_test[(d_xy_test['nationality'] == 1) & (d_xy_test['wage_eur'] == 0)]\n",
    "    a0_y0 = d_xy_test[(d_xy_test['nationality'] == 0) & (d_xy_test['wage_eur'] == 0)]\n",
    "    alpha = np.sum((a1_y1['y_prob'] >= 0.5) == 1)/a1_y1.shape[0]\n",
    "    beta = np.sum((a0_y1['y_prob'] >= 0.5) == 1)/a0_y1.shape[0]\n",
    "    tau = np.sum((a1_y0['y_prob'] >= 0.5) == 1)/a1_y0.shape[0]\n",
    "    phi = np.sum((a0_y0['y_prob'] >= 0.5) == 1)/a0_y0.shape[0]\n",
    "    true_bias_tpr.append(np.abs(alpha - beta))\n",
    "    true_bias_fpr.append(np.abs(tau - phi))\n",
    "    # print('bias_tpr =', bias_tpr)\n",
    "\n",
    "    # Use generate estimates function\n",
    "    bias_tpr_hat_o, bias_fpr_hat_o, a_error, error_1, error_2 = generate_estimates(opt_t,output,d_xy_test)\n",
    "    old_bias_tpr.append(bias_tpr_hat_o)\n",
    "    old_bias_fpr.append(bias_fpr_hat_o)\n",
    "    old_error.append(a_error)\n",
    "    U1_old.append(error_1)\n",
    "    U2_old.append(error_2)\n",
    "\n",
    "    #### Tuning\n",
    "    # Tune h(x) on common data \n",
    "    d_tune = Dataset(d_xay)\n",
    "    d_tune_dataloader = torch.utils.data.DataLoader(d_tune, batch_size=len(d_xay))\n",
    "    device = torch.device(\"cpu\")\n",
    "    model = model.eval()\n",
    "    with torch.no_grad():\n",
    "        for tune_input, tune_label, tune_remain in d_tune_dataloader:\n",
    "            tune_label = tune_label.to(device).float()\n",
    "            mask = tune_input['attention_mask'].to(device)\n",
    "            input_id = tune_input['input_ids'].squeeze(1).to(device)\n",
    "            tune_output = model(input_id, mask).reshape(1,-1)[0]\n",
    "\n",
    "    # Processing data for later calculations\n",
    "    tune_label = np.array(tune_label)\n",
    "    tune_output = np.array(tune_output)\n",
    "    tune_remain = np.array(tune_remain)\n",
    "    tune_Y = []\n",
    "    for i in range(len(tune_remain)):\n",
    "        tune_Y.append(tune_remain[i][2])\n",
    "    tune_Y = np.array(tune_Y)\n",
    "    \n",
    "    # Concatenate y, a_label_test, outcomes_test to understand the error rates as function of threshold \n",
    "    Y_A_Ap = np.hstack((tune_Y.reshape(-1,1),tune_label.reshape(-1,1),tune_output.reshape(-1,1)))\n",
    "    Y_A = Y_A_Ap[:,:2]\n",
    "\n",
    "    # Look at error rates as a function of thresholds\n",
    "    g1 = []\n",
    "    g2 = []\n",
    "    d1 = []\n",
    "    d2 = []\n",
    "    for thresh in thresholds:\n",
    "        A_pred = (Y_A_Ap[:,2] >= thresh)\n",
    "        # g1\n",
    "        indices = np.where(np.sum(Y_A == [1,0],axis = 1) == 2)\n",
    "        A_labels = A_pred[indices]\n",
    "        g1.append(np.sum(Y_A[:,1][indices] != A_labels)/(np.size(indices)))\n",
    "        # g2\n",
    "        indices = np.where(np.sum(Y_A == [1,1],axis = 1) == 2)\n",
    "        A_labels = A_pred[indices]\n",
    "        g2.append(np.sum(Y_A[:,1][indices] != A_labels)/(np.size(indices)))\n",
    "        # h1\n",
    "        indices = np.where(np.sum(Y_A == [0,0],axis = 1) == 2)\n",
    "        A_labels = A_pred[indices]\n",
    "        d1.append(np.sum(Y_A[:,1][indices] != A_labels)/(np.size(indices)))\n",
    "        # h2\n",
    "        indices = np.where(np.sum(Y_A == [0,1],axis = 1) == 2)\n",
    "        A_labels = A_pred[indices]\n",
    "        d2.append(np.sum(Y_A[:,1][indices] != A_labels)/(np.size(indices)))\n",
    "\n",
    "    g1 = np.array(g1)\n",
    "    g2 = np.array(g2)\n",
    "    d1 = np.array(d1)\n",
    "    d2 = np.array(d2)\n",
    "\n",
    "    # Calculating gamma_1 and gamma_2\n",
    "    gamma_1 = np.abs(1-g1-g2)/(((s/r)*(1-g1)+g2)*((r/s)*(1-g2)+g1))\n",
    "\n",
    "    # Calculating gamma_1 and gamma_2\n",
    "    gamma_2 = np.abs(1-d1-d2)/(((v/w)*(1-d1)+d2)*((w/v)*(1-d2)+d1))\n",
    "\n",
    "    # Optimal threshold for gamma_1 maximization or gamma_2 maximization\n",
    "    nan_ind1 = np.where(np.isnan(gamma_1) == True)[0]\n",
    "    nan_ind2 = np.where(np.isnan(gamma_2) == True)[0]\n",
    "    nan_ind = np.concatenate([nan_ind1, nan_ind2[~np.isin(nan_ind2,nan_ind1)]])\n",
    "\n",
    "    # Remove nan\n",
    "    gamma_1 = np.delete(gamma_1, nan_ind)\n",
    "    gamma_2 = np.delete(gamma_2, nan_ind)\n",
    "    g1 = np.delete(g1,nan_ind)\n",
    "    g2 = np.delete(g2,nan_ind)\n",
    "    h1 = np.delete(d1,nan_ind)\n",
    "    h2 = np.delete(d2,nan_ind)\n",
    "    thresholds = np.delete(thresholds,nan_ind)\n",
    "\n",
    "    # Optimal Thresholds for various tasks\n",
    "    opt_t_gamma_1 = thresholds[np.argmax(gamma_1)]\n",
    "    opt_t_gamma_2 = thresholds[np.argmax(gamma_2)]\n",
    "    # print(opt_t_gamma_1)\n",
    "    # print(\"Optimal Threshold for max gamma_1\",opt_t_gamma_1)\n",
    "    # print(\"Optimal Threshold for max gamma_2\",opt_t_gamma_2)\n",
    "\n",
    "    # Add a_hat column to data using opt_t_gamma_1\n",
    "    bias_tpr_hat_n, bias_fpr_hat_n, a_error, error_1, error_2 = generate_estimates(opt_t_gamma_1,output,d_xy_test)\n",
    "    new_bias_tpr.append(bias_tpr_hat_n)\n",
    "    new_error_tpr.append(a_error)\n",
    "    U1_new_tpr.append(error_1)\n",
    "    U2_new_tpr.append(error_2)\n",
    "\n",
    "    # Add a_hat column to data using opt_t_gamma_1\n",
    "    bias_tpr_hat_n, bias_fpr_hat_n, a_error, error_1, error_2 = generate_estimates(opt_t_gamma_2,output,d_xy_test)\n",
    "    new_bias_fpr.append(bias_fpr_hat_n)\n",
    "    new_error_fpr.append(a_error)\n",
    "    U1_new_fpr.append(error_1)\n",
    "    U2_new_fpr.append(error_2)\n"
   ]
  },
  {
   "cell_type": "code",
   "execution_count": 113,
   "metadata": {},
   "outputs": [],
   "source": [
    "old_diff_tpr = np.abs(np.array(old_bias_tpr) - np.array(true_bias_tpr)).reshape(-1,1)\n",
    "new_diff_tpr = np.abs(np.array(new_bias_tpr) - np.array(true_bias_tpr)).reshape(-1,1)\n",
    "diffs_tpr = np.concatenate((old_diff_tpr,new_diff_tpr),axis = 1)\n",
    "\n",
    "old_diff_fpr = np.abs(np.array(old_bias_fpr) - np.array(true_bias_fpr)).reshape(-1,1)\n",
    "new_diff_fpr = np.abs(np.array(new_bias_fpr) - np.array(true_bias_fpr)).reshape(-1,1)\n",
    "diffs_fpr = np.concatenate((old_diff_fpr,new_diff_fpr),axis = 1)"
   ]
  },
  {
   "cell_type": "code",
   "execution_count": 117,
   "metadata": {},
   "outputs": [
    {
     "data": {
      "image/png": "[encoded data removed]",
      "text/plain": [
       "<Figure size 432x288 with 1 Axes>"
      ]
     },
     "metadata": {
      "needs_background": "light"
     },
     "output_type": "display_data"
    }
   ],
   "source": [
    "plt.boxplot(diffs_tpr,patch_artist=True)\n",
    "plt.xticks([1, 2], [r'$\\Delta_{TPR}$', r'$\\Delta^c_{TPR}$'])\n",
    "plt.xticks(fontsize=15 )\n",
    "plt.savefig('better_estimation_final_tpr.png',bbox_inches=\"tight\")"
   ]
  },
  {
   "cell_type": "code",
   "execution_count": 115,
   "metadata": {},
   "outputs": [
    {
     "data": {
      "image/png": "[encoded data removed]",
      "text/plain": [
       "<Figure size 432x288 with 1 Axes>"
      ]
     },
     "metadata": {
      "needs_background": "light"
     },
     "output_type": "display_data"
    }
   ],
   "source": [
    "plt.boxplot(np.abs(np.array(U1_old) - np.array(U1_new_tpr)),patch_artist=True)\n",
    "plt.xticks([1], [r'$\\Delta_{U_1}$'])\n",
    "plt.xticks(fontsize=15)\n",
    "plt.savefig('deltaU.png',bbox_inches=\"tight\")"
   ]
  },
  {
   "cell_type": "code",
   "execution_count": 689,
   "metadata": {},
   "outputs": [],
   "source": [
    "# Computing max distributions\n",
    "max_t_o = np.maximum(np.abs(u_bound_t_o),np.abs(l_bound_t_o))\n",
    "max_t_n = np.maximum(np.abs(u_bound_t_n),np.abs(l_bound_t_n))\n",
    "max_f_o = np.maximum(np.abs(u_bound_f_o),np.abs(l_bound_f_o))\n",
    "max_f_n = np.maximum(np.abs(u_bound_f_n),np.abs(l_bound_f_n))"
   ]
  },
  {
   "cell_type": "code",
   "execution_count": 725,
   "metadata": {},
   "outputs": [
    {
     "data": {
      "image/png": "[encoded data removed]",
      "text/plain": [
       "<Figure size 432x288 with 1 Axes>"
      ]
     },
     "metadata": {},
     "output_type": "display_data"
    }
   ],
   "source": [
    "# Kde plots: Upper bound\n",
    "sns.kdeplot(max_t_o, linestyle=\"--\", shade = True, cut = 0, label = '$TPR_{m}$', color = 'red')\n",
    "sns.kdeplot(np.array(np.abs(bias_tpr_before)),shade=True, cut = 0, label = r'$|bias_{TPR}(f)|$', color='red')\n",
    "sns.kdeplot(max_t_n,shade=True, linestyle = '--', cut = 0,label = r'$\\widetilde{TPR}_{m}$', color = 'green')\n",
    "sns.kdeplot(np.array(np.abs(bias_tpr_after)),shade=True, cut = 0, label = r'$|bias_{TPR}(\\tilde{f})|$',color='green')\n",
    "plt.legend()\n",
    "plt.savefig('real_data_tpr_bound.png',bbox_inches=\"tight\")"
   ]
  },
  {
   "cell_type": "code",
   "execution_count": 726,
   "metadata": {},
   "outputs": [
    {
     "data": {
      "image/png": "[encoded data removed]",
      "text/plain": [
       "<Figure size 432x288 with 1 Axes>"
      ]
     },
     "metadata": {},
     "output_type": "display_data"
    }
   ],
   "source": [
    "# Kde plots: Upper bound\n",
    "sns.kdeplot(max_f_o, linestyle=\"--\", shade = True, cut = 0, label = '$FPR_{m}$', color = 'red')\n",
    "sns.kdeplot(np.array(np.abs(bias_fpr_before)),shade=True, cut = 0, label = r'$|bias_{FPR}(f)|$', color='red')\n",
    "sns.kdeplot(max_f_n,shade=True, linestyle = '--', cut = 0,label = r'$\\widetilde{FPR}_{m}$', color = 'green')\n",
    "sns.kdeplot(np.array(np.abs(bias_fpr_after)),shade=True, cut = 0, label = r'$|bias_{FPR}(\\tilde{f})|$',color='green')\n",
    "plt.legend()\n",
    "plt.savefig('real_data_fpr_bound.png',bbox_inches=\"tight\")"
   ]
  }
 ],
 "metadata": {
  "kernelspec": {
   "display_name": "Python 3.10.4 ('cuda102')",
   "language": "python",
   "name": "python3"
  },
  "language_info": {
   "codemirror_mode": {
    "name": "ipython",
    "version": 3
   },
   "file_extension": ".py",
   "mimetype": "text/x-python",
   "name": "python",
   "nbconvert_exporter": "python",
   "pygments_lexer": "ipython3",
   "version": "3.10.4"
  },
  "orig_nbformat": 4,
  "vscode": {
   "interpreter": {
    "hash": "3480f17d4fb79fd692b6ed7a9ca0948306936357486d7718056d429d227b38c3"
   }
  }
 },
 "nbformat": 4,
 "nbformat_minor": 2
}
